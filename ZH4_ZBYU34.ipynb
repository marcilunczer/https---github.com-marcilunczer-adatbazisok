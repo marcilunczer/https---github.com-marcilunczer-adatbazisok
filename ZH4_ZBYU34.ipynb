{
    "metadata": {
        "kernelspec": {
            "name": "SQL",
            "display_name": "SQL",
            "language": "sql"
        },
        "language_info": {
            "name": "sql",
            "version": ""
        }
    },
    "nbformat_minor": 2,
    "nbformat": 4,
    "cells": [
        {
            "cell_type": "markdown",
            "source": [
                "1\\. Feladat"
            ],
            "metadata": {
                "azdata_cell_guid": "1b8efc0c-817a-4373-9831-7a822c19c137"
            },
            "attachments": {}
        },
        {
            "cell_type": "code",
            "source": [
                "SELECT \r\n",
                "    SZOBA.SZOBA_ID, \r\n",
                "    COUNT(FOGLALAS.FOGLALAS_PK) AS Foglalás_Szám\r\n",
                "FROM \r\n",
                "    SZOBA\r\n",
                "LEFT JOIN \r\n",
                "    FOGLALAS ON SZOBA.SZOBA_ID = FOGLALAS.SZOBA_FK\r\n",
                "GROUP BY \r\n",
                "    SZOBA.SZOBA_ID\r\n",
                "ORDER BY \r\n",
                "    SZOBA.SZOBA_ID;\r\n",
                ""
            ],
            "metadata": {
                "azdata_cell_guid": "e4e044a0-dd66-4914-88e0-fd025e6a6308",
                "language": "sql"
            },
            "outputs": [
                {
                    "output_type": "display_data",
                    "data": {
                        "text/html": "(294 rows affected)"
                    },
                    "metadata": {}
                },
                {
                    "output_type": "display_data",
                    "data": {
                        "text/html": "Total execution time: 00:00:00.057"
                    },
                    "metadata": {}
                },
                {
                    "output_type": "execute_result",
                    "execution_count": 4,
                    "data": {
                        "application/vnd.dataresource+json": {
                            "schema": {
                                "fields": [
                                    {
                                        "name": "SZOBA_ID"
                                    },
                                    {
                                        "name": "Foglalás_Szám"
                                    }
                                ]
                            },
                            "data": [
                                {
                                    "SZOBA_ID": "1",
                                    "Foglalás_Szám": "8"
                                },
                                {
                                    "SZOBA_ID": "2",
                                    "Foglalás_Szám": "4"
                                },
                                {
                                    "SZOBA_ID": "3",
                                    "Foglalás_Szám": "8"
                                },
                                {
                                    "SZOBA_ID": "4",
                                    "Foglalás_Szám": "6"
                                },
                                {
                                    "SZOBA_ID": "5",
                                    "Foglalás_Szám": "4"
                                },
                                {
                                    "SZOBA_ID": "6",
                                    "Foglalás_Szám": "6"
                                },
                                {
                                    "SZOBA_ID": "7",
                                    "Foglalás_Szám": "6"
                                },
                                {
                                    "SZOBA_ID": "8",
                                    "Foglalás_Szám": "5"
                                },
                                {
                                    "SZOBA_ID": "9",
                                    "Foglalás_Szám": "6"
                                },
                                {
                                    "SZOBA_ID": "10",
                                    "Foglalás_Szám": "4"
                                },
                                {
                                    "SZOBA_ID": "11",
                                    "Foglalás_Szám": "4"
                                },
                                {
                                    "SZOBA_ID": "12",
                                    "Foglalás_Szám": "9"
                                },
                                {
                                    "SZOBA_ID": "13",
                                    "Foglalás_Szám": "4"
                                },
                                {
                                    "SZOBA_ID": "14",
                                    "Foglalás_Szám": "3"
                                },
                                {
                                    "SZOBA_ID": "15",
                                    "Foglalás_Szám": "6"
                                },
                                {
                                    "SZOBA_ID": "16",
                                    "Foglalás_Szám": "5"
                                },
                                {
                                    "SZOBA_ID": "17",
                                    "Foglalás_Szám": "6"
                                },
                                {
                                    "SZOBA_ID": "18",
                                    "Foglalás_Szám": "6"
                                },
                                {
                                    "SZOBA_ID": "19",
                                    "Foglalás_Szám": "6"
                                },
                                {
                                    "SZOBA_ID": "20",
                                    "Foglalás_Szám": "5"
                                },
                                {
                                    "SZOBA_ID": "21",
                                    "Foglalás_Szám": "4"
                                },
                                {
                                    "SZOBA_ID": "22",
                                    "Foglalás_Szám": "6"
                                },
                                {
                                    "SZOBA_ID": "23",
                                    "Foglalás_Szám": "3"
                                },
                                {
                                    "SZOBA_ID": "24",
                                    "Foglalás_Szám": "3"
                                },
                                {
                                    "SZOBA_ID": "25",
                                    "Foglalás_Szám": "2"
                                },
                                {
                                    "SZOBA_ID": "26",
                                    "Foglalás_Szám": "2"
                                },
                                {
                                    "SZOBA_ID": "27",
                                    "Foglalás_Szám": "7"
                                },
                                {
                                    "SZOBA_ID": "28",
                                    "Foglalás_Szám": "6"
                                },
                                {
                                    "SZOBA_ID": "29",
                                    "Foglalás_Szám": "6"
                                },
                                {
                                    "SZOBA_ID": "30",
                                    "Foglalás_Szám": "3"
                                },
                                {
                                    "SZOBA_ID": "31",
                                    "Foglalás_Szám": "3"
                                },
                                {
                                    "SZOBA_ID": "32",
                                    "Foglalás_Szám": "1"
                                },
                                {
                                    "SZOBA_ID": "33",
                                    "Foglalás_Szám": "6"
                                },
                                {
                                    "SZOBA_ID": "34",
                                    "Foglalás_Szám": "4"
                                },
                                {
                                    "SZOBA_ID": "35",
                                    "Foglalás_Szám": "9"
                                },
                                {
                                    "SZOBA_ID": "36",
                                    "Foglalás_Szám": "6"
                                },
                                {
                                    "SZOBA_ID": "37",
                                    "Foglalás_Szám": "3"
                                },
                                {
                                    "SZOBA_ID": "38",
                                    "Foglalás_Szám": "8"
                                },
                                {
                                    "SZOBA_ID": "39",
                                    "Foglalás_Szám": "7"
                                },
                                {
                                    "SZOBA_ID": "40",
                                    "Foglalás_Szám": "4"
                                },
                                {
                                    "SZOBA_ID": "41",
                                    "Foglalás_Szám": "2"
                                },
                                {
                                    "SZOBA_ID": "42",
                                    "Foglalás_Szám": "6"
                                },
                                {
                                    "SZOBA_ID": "43",
                                    "Foglalás_Szám": "8"
                                },
                                {
                                    "SZOBA_ID": "44",
                                    "Foglalás_Szám": "6"
                                },
                                {
                                    "SZOBA_ID": "45",
                                    "Foglalás_Szám": "5"
                                },
                                {
                                    "SZOBA_ID": "46",
                                    "Foglalás_Szám": "4"
                                },
                                {
                                    "SZOBA_ID": "47",
                                    "Foglalás_Szám": "2"
                                },
                                {
                                    "SZOBA_ID": "48",
                                    "Foglalás_Szám": "9"
                                },
                                {
                                    "SZOBA_ID": "49",
                                    "Foglalás_Szám": "7"
                                },
                                {
                                    "SZOBA_ID": "50",
                                    "Foglalás_Szám": "4"
                                },
                                {
                                    "SZOBA_ID": "51",
                                    "Foglalás_Szám": "5"
                                },
                                {
                                    "SZOBA_ID": "52",
                                    "Foglalás_Szám": "5"
                                },
                                {
                                    "SZOBA_ID": "53",
                                    "Foglalás_Szám": "2"
                                },
                                {
                                    "SZOBA_ID": "54",
                                    "Foglalás_Szám": "6"
                                },
                                {
                                    "SZOBA_ID": "55",
                                    "Foglalás_Szám": "8"
                                },
                                {
                                    "SZOBA_ID": "56",
                                    "Foglalás_Szám": "2"
                                },
                                {
                                    "SZOBA_ID": "57",
                                    "Foglalás_Szám": "4"
                                },
                                {
                                    "SZOBA_ID": "58",
                                    "Foglalás_Szám": "13"
                                },
                                {
                                    "SZOBA_ID": "59",
                                    "Foglalás_Szám": "7"
                                },
                                {
                                    "SZOBA_ID": "60",
                                    "Foglalás_Szám": "1"
                                },
                                {
                                    "SZOBA_ID": "61",
                                    "Foglalás_Szám": "5"
                                },
                                {
                                    "SZOBA_ID": "62",
                                    "Foglalás_Szám": "5"
                                },
                                {
                                    "SZOBA_ID": "63",
                                    "Foglalás_Szám": "4"
                                },
                                {
                                    "SZOBA_ID": "64",
                                    "Foglalás_Szám": "6"
                                },
                                {
                                    "SZOBA_ID": "65",
                                    "Foglalás_Szám": "1"
                                },
                                {
                                    "SZOBA_ID": "66",
                                    "Foglalás_Szám": "4"
                                },
                                {
                                    "SZOBA_ID": "67",
                                    "Foglalás_Szám": "6"
                                },
                                {
                                    "SZOBA_ID": "68",
                                    "Foglalás_Szám": "3"
                                },
                                {
                                    "SZOBA_ID": "69",
                                    "Foglalás_Szám": "4"
                                },
                                {
                                    "SZOBA_ID": "70",
                                    "Foglalás_Szám": "11"
                                },
                                {
                                    "SZOBA_ID": "71",
                                    "Foglalás_Szám": "3"
                                },
                                {
                                    "SZOBA_ID": "72",
                                    "Foglalás_Szám": "4"
                                },
                                {
                                    "SZOBA_ID": "73",
                                    "Foglalás_Szám": "4"
                                },
                                {
                                    "SZOBA_ID": "74",
                                    "Foglalás_Szám": "9"
                                },
                                {
                                    "SZOBA_ID": "75",
                                    "Foglalás_Szám": "3"
                                },
                                {
                                    "SZOBA_ID": "76",
                                    "Foglalás_Szám": "3"
                                },
                                {
                                    "SZOBA_ID": "77",
                                    "Foglalás_Szám": "6"
                                },
                                {
                                    "SZOBA_ID": "78",
                                    "Foglalás_Szám": "6"
                                },
                                {
                                    "SZOBA_ID": "79",
                                    "Foglalás_Szám": "5"
                                },
                                {
                                    "SZOBA_ID": "80",
                                    "Foglalás_Szám": "7"
                                },
                                {
                                    "SZOBA_ID": "81",
                                    "Foglalás_Szám": "5"
                                },
                                {
                                    "SZOBA_ID": "82",
                                    "Foglalás_Szám": "6"
                                },
                                {
                                    "SZOBA_ID": "83",
                                    "Foglalás_Szám": "8"
                                },
                                {
                                    "SZOBA_ID": "84",
                                    "Foglalás_Szám": "4"
                                },
                                {
                                    "SZOBA_ID": "85",
                                    "Foglalás_Szám": "4"
                                },
                                {
                                    "SZOBA_ID": "86",
                                    "Foglalás_Szám": "5"
                                },
                                {
                                    "SZOBA_ID": "87",
                                    "Foglalás_Szám": "5"
                                },
                                {
                                    "SZOBA_ID": "88",
                                    "Foglalás_Szám": "8"
                                },
                                {
                                    "SZOBA_ID": "89",
                                    "Foglalás_Szám": "8"
                                },
                                {
                                    "SZOBA_ID": "90",
                                    "Foglalás_Szám": "4"
                                },
                                {
                                    "SZOBA_ID": "91",
                                    "Foglalás_Szám": "4"
                                },
                                {
                                    "SZOBA_ID": "92",
                                    "Foglalás_Szám": "6"
                                },
                                {
                                    "SZOBA_ID": "93",
                                    "Foglalás_Szám": "5"
                                },
                                {
                                    "SZOBA_ID": "94",
                                    "Foglalás_Szám": "10"
                                },
                                {
                                    "SZOBA_ID": "95",
                                    "Foglalás_Szám": "4"
                                },
                                {
                                    "SZOBA_ID": "96",
                                    "Foglalás_Szám": "7"
                                },
                                {
                                    "SZOBA_ID": "97",
                                    "Foglalás_Szám": "7"
                                },
                                {
                                    "SZOBA_ID": "98",
                                    "Foglalás_Szám": "4"
                                },
                                {
                                    "SZOBA_ID": "99",
                                    "Foglalás_Szám": "5"
                                },
                                {
                                    "SZOBA_ID": "100",
                                    "Foglalás_Szám": "4"
                                },
                                {
                                    "SZOBA_ID": "101",
                                    "Foglalás_Szám": "3"
                                },
                                {
                                    "SZOBA_ID": "102",
                                    "Foglalás_Szám": "2"
                                },
                                {
                                    "SZOBA_ID": "103",
                                    "Foglalás_Szám": "4"
                                },
                                {
                                    "SZOBA_ID": "104",
                                    "Foglalás_Szám": "4"
                                },
                                {
                                    "SZOBA_ID": "105",
                                    "Foglalás_Szám": "2"
                                },
                                {
                                    "SZOBA_ID": "106",
                                    "Foglalás_Szám": "6"
                                },
                                {
                                    "SZOBA_ID": "107",
                                    "Foglalás_Szám": "5"
                                },
                                {
                                    "SZOBA_ID": "108",
                                    "Foglalás_Szám": "2"
                                },
                                {
                                    "SZOBA_ID": "109",
                                    "Foglalás_Szám": "7"
                                },
                                {
                                    "SZOBA_ID": "110",
                                    "Foglalás_Szám": "8"
                                },
                                {
                                    "SZOBA_ID": "111",
                                    "Foglalás_Szám": "5"
                                },
                                {
                                    "SZOBA_ID": "112",
                                    "Foglalás_Szám": "5"
                                },
                                {
                                    "SZOBA_ID": "113",
                                    "Foglalás_Szám": "5"
                                },
                                {
                                    "SZOBA_ID": "114",
                                    "Foglalás_Szám": "4"
                                },
                                {
                                    "SZOBA_ID": "115",
                                    "Foglalás_Szám": "7"
                                },
                                {
                                    "SZOBA_ID": "116",
                                    "Foglalás_Szám": "2"
                                },
                                {
                                    "SZOBA_ID": "117",
                                    "Foglalás_Szám": "8"
                                },
                                {
                                    "SZOBA_ID": "118",
                                    "Foglalás_Szám": "7"
                                },
                                {
                                    "SZOBA_ID": "119",
                                    "Foglalás_Szám": "5"
                                },
                                {
                                    "SZOBA_ID": "120",
                                    "Foglalás_Szám": "6"
                                },
                                {
                                    "SZOBA_ID": "121",
                                    "Foglalás_Szám": "8"
                                },
                                {
                                    "SZOBA_ID": "122",
                                    "Foglalás_Szám": "9"
                                },
                                {
                                    "SZOBA_ID": "123",
                                    "Foglalás_Szám": "5"
                                },
                                {
                                    "SZOBA_ID": "124",
                                    "Foglalás_Szám": "6"
                                },
                                {
                                    "SZOBA_ID": "125",
                                    "Foglalás_Szám": "1"
                                },
                                {
                                    "SZOBA_ID": "126",
                                    "Foglalás_Szám": "6"
                                },
                                {
                                    "SZOBA_ID": "127",
                                    "Foglalás_Szám": "7"
                                },
                                {
                                    "SZOBA_ID": "128",
                                    "Foglalás_Szám": "5"
                                },
                                {
                                    "SZOBA_ID": "129",
                                    "Foglalás_Szám": "4"
                                },
                                {
                                    "SZOBA_ID": "130",
                                    "Foglalás_Szám": "6"
                                },
                                {
                                    "SZOBA_ID": "131",
                                    "Foglalás_Szám": "5"
                                },
                                {
                                    "SZOBA_ID": "132",
                                    "Foglalás_Szám": "6"
                                },
                                {
                                    "SZOBA_ID": "133",
                                    "Foglalás_Szám": "6"
                                },
                                {
                                    "SZOBA_ID": "134",
                                    "Foglalás_Szám": "6"
                                },
                                {
                                    "SZOBA_ID": "135",
                                    "Foglalás_Szám": "3"
                                },
                                {
                                    "SZOBA_ID": "136",
                                    "Foglalás_Szám": "3"
                                },
                                {
                                    "SZOBA_ID": "137",
                                    "Foglalás_Szám": "6"
                                },
                                {
                                    "SZOBA_ID": "138",
                                    "Foglalás_Szám": "7"
                                },
                                {
                                    "SZOBA_ID": "139",
                                    "Foglalás_Szám": "7"
                                },
                                {
                                    "SZOBA_ID": "140",
                                    "Foglalás_Szám": "8"
                                },
                                {
                                    "SZOBA_ID": "141",
                                    "Foglalás_Szám": "6"
                                },
                                {
                                    "SZOBA_ID": "142",
                                    "Foglalás_Szám": "2"
                                },
                                {
                                    "SZOBA_ID": "143",
                                    "Foglalás_Szám": "7"
                                },
                                {
                                    "SZOBA_ID": "144",
                                    "Foglalás_Szám": "5"
                                },
                                {
                                    "SZOBA_ID": "145",
                                    "Foglalás_Szám": "6"
                                },
                                {
                                    "SZOBA_ID": "146",
                                    "Foglalás_Szám": "6"
                                },
                                {
                                    "SZOBA_ID": "147",
                                    "Foglalás_Szám": "1"
                                },
                                {
                                    "SZOBA_ID": "148",
                                    "Foglalás_Szám": "6"
                                },
                                {
                                    "SZOBA_ID": "149",
                                    "Foglalás_Szám": "7"
                                },
                                {
                                    "SZOBA_ID": "150",
                                    "Foglalás_Szám": "6"
                                },
                                {
                                    "SZOBA_ID": "151",
                                    "Foglalás_Szám": "3"
                                },
                                {
                                    "SZOBA_ID": "152",
                                    "Foglalás_Szám": "4"
                                },
                                {
                                    "SZOBA_ID": "153",
                                    "Foglalás_Szám": "5"
                                },
                                {
                                    "SZOBA_ID": "154",
                                    "Foglalás_Szám": "5"
                                },
                                {
                                    "SZOBA_ID": "155",
                                    "Foglalás_Szám": "5"
                                },
                                {
                                    "SZOBA_ID": "156",
                                    "Foglalás_Szám": "7"
                                },
                                {
                                    "SZOBA_ID": "157",
                                    "Foglalás_Szám": "5"
                                },
                                {
                                    "SZOBA_ID": "158",
                                    "Foglalás_Szám": "3"
                                },
                                {
                                    "SZOBA_ID": "159",
                                    "Foglalás_Szám": "0"
                                },
                                {
                                    "SZOBA_ID": "160",
                                    "Foglalás_Szám": "5"
                                },
                                {
                                    "SZOBA_ID": "161",
                                    "Foglalás_Szám": "6"
                                },
                                {
                                    "SZOBA_ID": "162",
                                    "Foglalás_Szám": "3"
                                },
                                {
                                    "SZOBA_ID": "163",
                                    "Foglalás_Szám": "7"
                                },
                                {
                                    "SZOBA_ID": "164",
                                    "Foglalás_Szám": "5"
                                },
                                {
                                    "SZOBA_ID": "165",
                                    "Foglalás_Szám": "7"
                                },
                                {
                                    "SZOBA_ID": "166",
                                    "Foglalás_Szám": "3"
                                },
                                {
                                    "SZOBA_ID": "167",
                                    "Foglalás_Szám": "2"
                                },
                                {
                                    "SZOBA_ID": "168",
                                    "Foglalás_Szám": "5"
                                },
                                {
                                    "SZOBA_ID": "169",
                                    "Foglalás_Szám": "6"
                                },
                                {
                                    "SZOBA_ID": "170",
                                    "Foglalás_Szám": "5"
                                },
                                {
                                    "SZOBA_ID": "171",
                                    "Foglalás_Szám": "5"
                                },
                                {
                                    "SZOBA_ID": "172",
                                    "Foglalás_Szám": "9"
                                },
                                {
                                    "SZOBA_ID": "173",
                                    "Foglalás_Szám": "4"
                                },
                                {
                                    "SZOBA_ID": "174",
                                    "Foglalás_Szám": "4"
                                },
                                {
                                    "SZOBA_ID": "175",
                                    "Foglalás_Szám": "5"
                                },
                                {
                                    "SZOBA_ID": "176",
                                    "Foglalás_Szám": "6"
                                },
                                {
                                    "SZOBA_ID": "177",
                                    "Foglalás_Szám": "4"
                                },
                                {
                                    "SZOBA_ID": "178",
                                    "Foglalás_Szám": "4"
                                },
                                {
                                    "SZOBA_ID": "179",
                                    "Foglalás_Szám": "3"
                                },
                                {
                                    "SZOBA_ID": "180",
                                    "Foglalás_Szám": "3"
                                },
                                {
                                    "SZOBA_ID": "181",
                                    "Foglalás_Szám": "6"
                                },
                                {
                                    "SZOBA_ID": "182",
                                    "Foglalás_Szám": "12"
                                },
                                {
                                    "SZOBA_ID": "183",
                                    "Foglalás_Szám": "4"
                                },
                                {
                                    "SZOBA_ID": "184",
                                    "Foglalás_Szám": "4"
                                },
                                {
                                    "SZOBA_ID": "185",
                                    "Foglalás_Szám": "12"
                                },
                                {
                                    "SZOBA_ID": "186",
                                    "Foglalás_Szám": "4"
                                },
                                {
                                    "SZOBA_ID": "187",
                                    "Foglalás_Szám": "7"
                                },
                                {
                                    "SZOBA_ID": "188",
                                    "Foglalás_Szám": "6"
                                },
                                {
                                    "SZOBA_ID": "189",
                                    "Foglalás_Szám": "5"
                                },
                                {
                                    "SZOBA_ID": "190",
                                    "Foglalás_Szám": "5"
                                },
                                {
                                    "SZOBA_ID": "191",
                                    "Foglalás_Szám": "5"
                                },
                                {
                                    "SZOBA_ID": "192",
                                    "Foglalás_Szám": "2"
                                },
                                {
                                    "SZOBA_ID": "193",
                                    "Foglalás_Szám": "7"
                                },
                                {
                                    "SZOBA_ID": "194",
                                    "Foglalás_Szám": "1"
                                },
                                {
                                    "SZOBA_ID": "195",
                                    "Foglalás_Szám": "6"
                                },
                                {
                                    "SZOBA_ID": "196",
                                    "Foglalás_Szám": "4"
                                },
                                {
                                    "SZOBA_ID": "197",
                                    "Foglalás_Szám": "6"
                                },
                                {
                                    "SZOBA_ID": "198",
                                    "Foglalás_Szám": "8"
                                },
                                {
                                    "SZOBA_ID": "199",
                                    "Foglalás_Szám": "0"
                                },
                                {
                                    "SZOBA_ID": "200",
                                    "Foglalás_Szám": "0"
                                },
                                {
                                    "SZOBA_ID": "201",
                                    "Foglalás_Szám": "0"
                                },
                                {
                                    "SZOBA_ID": "202",
                                    "Foglalás_Szám": "0"
                                },
                                {
                                    "SZOBA_ID": "203",
                                    "Foglalás_Szám": "0"
                                },
                                {
                                    "SZOBA_ID": "204",
                                    "Foglalás_Szám": "0"
                                },
                                {
                                    "SZOBA_ID": "205",
                                    "Foglalás_Szám": "0"
                                },
                                {
                                    "SZOBA_ID": "206",
                                    "Foglalás_Szám": "0"
                                },
                                {
                                    "SZOBA_ID": "207",
                                    "Foglalás_Szám": "0"
                                },
                                {
                                    "SZOBA_ID": "208",
                                    "Foglalás_Szám": "0"
                                },
                                {
                                    "SZOBA_ID": "209",
                                    "Foglalás_Szám": "0"
                                },
                                {
                                    "SZOBA_ID": "210",
                                    "Foglalás_Szám": "0"
                                },
                                {
                                    "SZOBA_ID": "211",
                                    "Foglalás_Szám": "0"
                                },
                                {
                                    "SZOBA_ID": "212",
                                    "Foglalás_Szám": "0"
                                },
                                {
                                    "SZOBA_ID": "213",
                                    "Foglalás_Szám": "0"
                                },
                                {
                                    "SZOBA_ID": "214",
                                    "Foglalás_Szám": "0"
                                },
                                {
                                    "SZOBA_ID": "215",
                                    "Foglalás_Szám": "0"
                                },
                                {
                                    "SZOBA_ID": "216",
                                    "Foglalás_Szám": "0"
                                },
                                {
                                    "SZOBA_ID": "217",
                                    "Foglalás_Szám": "0"
                                },
                                {
                                    "SZOBA_ID": "218",
                                    "Foglalás_Szám": "0"
                                },
                                {
                                    "SZOBA_ID": "219",
                                    "Foglalás_Szám": "0"
                                },
                                {
                                    "SZOBA_ID": "220",
                                    "Foglalás_Szám": "0"
                                },
                                {
                                    "SZOBA_ID": "221",
                                    "Foglalás_Szám": "0"
                                },
                                {
                                    "SZOBA_ID": "222",
                                    "Foglalás_Szám": "0"
                                },
                                {
                                    "SZOBA_ID": "223",
                                    "Foglalás_Szám": "0"
                                },
                                {
                                    "SZOBA_ID": "224",
                                    "Foglalás_Szám": "0"
                                },
                                {
                                    "SZOBA_ID": "225",
                                    "Foglalás_Szám": "0"
                                },
                                {
                                    "SZOBA_ID": "226",
                                    "Foglalás_Szám": "0"
                                },
                                {
                                    "SZOBA_ID": "227",
                                    "Foglalás_Szám": "0"
                                },
                                {
                                    "SZOBA_ID": "228",
                                    "Foglalás_Szám": "0"
                                },
                                {
                                    "SZOBA_ID": "229",
                                    "Foglalás_Szám": "0"
                                },
                                {
                                    "SZOBA_ID": "230",
                                    "Foglalás_Szám": "0"
                                },
                                {
                                    "SZOBA_ID": "231",
                                    "Foglalás_Szám": "0"
                                },
                                {
                                    "SZOBA_ID": "232",
                                    "Foglalás_Szám": "0"
                                },
                                {
                                    "SZOBA_ID": "233",
                                    "Foglalás_Szám": "0"
                                },
                                {
                                    "SZOBA_ID": "234",
                                    "Foglalás_Szám": "0"
                                },
                                {
                                    "SZOBA_ID": "235",
                                    "Foglalás_Szám": "0"
                                },
                                {
                                    "SZOBA_ID": "236",
                                    "Foglalás_Szám": "0"
                                },
                                {
                                    "SZOBA_ID": "237",
                                    "Foglalás_Szám": "0"
                                },
                                {
                                    "SZOBA_ID": "238",
                                    "Foglalás_Szám": "0"
                                },
                                {
                                    "SZOBA_ID": "239",
                                    "Foglalás_Szám": "0"
                                },
                                {
                                    "SZOBA_ID": "240",
                                    "Foglalás_Szám": "0"
                                },
                                {
                                    "SZOBA_ID": "241",
                                    "Foglalás_Szám": "0"
                                },
                                {
                                    "SZOBA_ID": "242",
                                    "Foglalás_Szám": "0"
                                },
                                {
                                    "SZOBA_ID": "243",
                                    "Foglalás_Szám": "0"
                                },
                                {
                                    "SZOBA_ID": "244",
                                    "Foglalás_Szám": "0"
                                },
                                {
                                    "SZOBA_ID": "245",
                                    "Foglalás_Szám": "0"
                                },
                                {
                                    "SZOBA_ID": "246",
                                    "Foglalás_Szám": "0"
                                },
                                {
                                    "SZOBA_ID": "247",
                                    "Foglalás_Szám": "0"
                                },
                                {
                                    "SZOBA_ID": "248",
                                    "Foglalás_Szám": "0"
                                },
                                {
                                    "SZOBA_ID": "249",
                                    "Foglalás_Szám": "0"
                                },
                                {
                                    "SZOBA_ID": "250",
                                    "Foglalás_Szám": "0"
                                },
                                {
                                    "SZOBA_ID": "251",
                                    "Foglalás_Szám": "0"
                                },
                                {
                                    "SZOBA_ID": "252",
                                    "Foglalás_Szám": "0"
                                },
                                {
                                    "SZOBA_ID": "253",
                                    "Foglalás_Szám": "0"
                                },
                                {
                                    "SZOBA_ID": "254",
                                    "Foglalás_Szám": "0"
                                },
                                {
                                    "SZOBA_ID": "255",
                                    "Foglalás_Szám": "0"
                                },
                                {
                                    "SZOBA_ID": "256",
                                    "Foglalás_Szám": "0"
                                },
                                {
                                    "SZOBA_ID": "257",
                                    "Foglalás_Szám": "0"
                                },
                                {
                                    "SZOBA_ID": "258",
                                    "Foglalás_Szám": "0"
                                },
                                {
                                    "SZOBA_ID": "259",
                                    "Foglalás_Szám": "0"
                                },
                                {
                                    "SZOBA_ID": "260",
                                    "Foglalás_Szám": "0"
                                },
                                {
                                    "SZOBA_ID": "261",
                                    "Foglalás_Szám": "0"
                                },
                                {
                                    "SZOBA_ID": "262",
                                    "Foglalás_Szám": "0"
                                },
                                {
                                    "SZOBA_ID": "263",
                                    "Foglalás_Szám": "0"
                                },
                                {
                                    "SZOBA_ID": "264",
                                    "Foglalás_Szám": "0"
                                },
                                {
                                    "SZOBA_ID": "265",
                                    "Foglalás_Szám": "0"
                                },
                                {
                                    "SZOBA_ID": "266",
                                    "Foglalás_Szám": "0"
                                },
                                {
                                    "SZOBA_ID": "267",
                                    "Foglalás_Szám": "0"
                                },
                                {
                                    "SZOBA_ID": "268",
                                    "Foglalás_Szám": "0"
                                },
                                {
                                    "SZOBA_ID": "269",
                                    "Foglalás_Szám": "0"
                                },
                                {
                                    "SZOBA_ID": "270",
                                    "Foglalás_Szám": "0"
                                },
                                {
                                    "SZOBA_ID": "271",
                                    "Foglalás_Szám": "0"
                                },
                                {
                                    "SZOBA_ID": "272",
                                    "Foglalás_Szám": "0"
                                },
                                {
                                    "SZOBA_ID": "273",
                                    "Foglalás_Szám": "0"
                                },
                                {
                                    "SZOBA_ID": "274",
                                    "Foglalás_Szám": "0"
                                },
                                {
                                    "SZOBA_ID": "275",
                                    "Foglalás_Szám": "0"
                                },
                                {
                                    "SZOBA_ID": "276",
                                    "Foglalás_Szám": "0"
                                },
                                {
                                    "SZOBA_ID": "277",
                                    "Foglalás_Szám": "0"
                                },
                                {
                                    "SZOBA_ID": "278",
                                    "Foglalás_Szám": "0"
                                },
                                {
                                    "SZOBA_ID": "279",
                                    "Foglalás_Szám": "0"
                                },
                                {
                                    "SZOBA_ID": "280",
                                    "Foglalás_Szám": "0"
                                },
                                {
                                    "SZOBA_ID": "281",
                                    "Foglalás_Szám": "0"
                                },
                                {
                                    "SZOBA_ID": "282",
                                    "Foglalás_Szám": "0"
                                },
                                {
                                    "SZOBA_ID": "283",
                                    "Foglalás_Szám": "0"
                                },
                                {
                                    "SZOBA_ID": "284",
                                    "Foglalás_Szám": "0"
                                },
                                {
                                    "SZOBA_ID": "285",
                                    "Foglalás_Szám": "0"
                                },
                                {
                                    "SZOBA_ID": "286",
                                    "Foglalás_Szám": "0"
                                },
                                {
                                    "SZOBA_ID": "287",
                                    "Foglalás_Szám": "0"
                                },
                                {
                                    "SZOBA_ID": "288",
                                    "Foglalás_Szám": "0"
                                },
                                {
                                    "SZOBA_ID": "289",
                                    "Foglalás_Szám": "0"
                                },
                                {
                                    "SZOBA_ID": "290",
                                    "Foglalás_Szám": "0"
                                },
                                {
                                    "SZOBA_ID": "291",
                                    "Foglalás_Szám": "0"
                                },
                                {
                                    "SZOBA_ID": "292",
                                    "Foglalás_Szám": "0"
                                },
                                {
                                    "SZOBA_ID": "293",
                                    "Foglalás_Szám": "0"
                                },
                                {
                                    "SZOBA_ID": "294",
                                    "Foglalás_Szám": "0"
                                }
                            ]
                        },
                        "text/html": "<table><tr><th>SZOBA_ID</th><th>Foglalás_Szám</th></tr><tr><td>1</td><td>8</td></tr><tr><td>2</td><td>4</td></tr><tr><td>3</td><td>8</td></tr><tr><td>4</td><td>6</td></tr><tr><td>5</td><td>4</td></tr><tr><td>6</td><td>6</td></tr><tr><td>7</td><td>6</td></tr><tr><td>8</td><td>5</td></tr><tr><td>9</td><td>6</td></tr><tr><td>10</td><td>4</td></tr><tr><td>11</td><td>4</td></tr><tr><td>12</td><td>9</td></tr><tr><td>13</td><td>4</td></tr><tr><td>14</td><td>3</td></tr><tr><td>15</td><td>6</td></tr><tr><td>16</td><td>5</td></tr><tr><td>17</td><td>6</td></tr><tr><td>18</td><td>6</td></tr><tr><td>19</td><td>6</td></tr><tr><td>20</td><td>5</td></tr><tr><td>21</td><td>4</td></tr><tr><td>22</td><td>6</td></tr><tr><td>23</td><td>3</td></tr><tr><td>24</td><td>3</td></tr><tr><td>25</td><td>2</td></tr><tr><td>26</td><td>2</td></tr><tr><td>27</td><td>7</td></tr><tr><td>28</td><td>6</td></tr><tr><td>29</td><td>6</td></tr><tr><td>30</td><td>3</td></tr><tr><td>31</td><td>3</td></tr><tr><td>32</td><td>1</td></tr><tr><td>33</td><td>6</td></tr><tr><td>34</td><td>4</td></tr><tr><td>35</td><td>9</td></tr><tr><td>36</td><td>6</td></tr><tr><td>37</td><td>3</td></tr><tr><td>38</td><td>8</td></tr><tr><td>39</td><td>7</td></tr><tr><td>40</td><td>4</td></tr><tr><td>41</td><td>2</td></tr><tr><td>42</td><td>6</td></tr><tr><td>43</td><td>8</td></tr><tr><td>44</td><td>6</td></tr><tr><td>45</td><td>5</td></tr><tr><td>46</td><td>4</td></tr><tr><td>47</td><td>2</td></tr><tr><td>48</td><td>9</td></tr><tr><td>49</td><td>7</td></tr><tr><td>50</td><td>4</td></tr><tr><td>51</td><td>5</td></tr><tr><td>52</td><td>5</td></tr><tr><td>53</td><td>2</td></tr><tr><td>54</td><td>6</td></tr><tr><td>55</td><td>8</td></tr><tr><td>56</td><td>2</td></tr><tr><td>57</td><td>4</td></tr><tr><td>58</td><td>13</td></tr><tr><td>59</td><td>7</td></tr><tr><td>60</td><td>1</td></tr><tr><td>61</td><td>5</td></tr><tr><td>62</td><td>5</td></tr><tr><td>63</td><td>4</td></tr><tr><td>64</td><td>6</td></tr><tr><td>65</td><td>1</td></tr><tr><td>66</td><td>4</td></tr><tr><td>67</td><td>6</td></tr><tr><td>68</td><td>3</td></tr><tr><td>69</td><td>4</td></tr><tr><td>70</td><td>11</td></tr><tr><td>71</td><td>3</td></tr><tr><td>72</td><td>4</td></tr><tr><td>73</td><td>4</td></tr><tr><td>74</td><td>9</td></tr><tr><td>75</td><td>3</td></tr><tr><td>76</td><td>3</td></tr><tr><td>77</td><td>6</td></tr><tr><td>78</td><td>6</td></tr><tr><td>79</td><td>5</td></tr><tr><td>80</td><td>7</td></tr><tr><td>81</td><td>5</td></tr><tr><td>82</td><td>6</td></tr><tr><td>83</td><td>8</td></tr><tr><td>84</td><td>4</td></tr><tr><td>85</td><td>4</td></tr><tr><td>86</td><td>5</td></tr><tr><td>87</td><td>5</td></tr><tr><td>88</td><td>8</td></tr><tr><td>89</td><td>8</td></tr><tr><td>90</td><td>4</td></tr><tr><td>91</td><td>4</td></tr><tr><td>92</td><td>6</td></tr><tr><td>93</td><td>5</td></tr><tr><td>94</td><td>10</td></tr><tr><td>95</td><td>4</td></tr><tr><td>96</td><td>7</td></tr><tr><td>97</td><td>7</td></tr><tr><td>98</td><td>4</td></tr><tr><td>99</td><td>5</td></tr><tr><td>100</td><td>4</td></tr><tr><td>101</td><td>3</td></tr><tr><td>102</td><td>2</td></tr><tr><td>103</td><td>4</td></tr><tr><td>104</td><td>4</td></tr><tr><td>105</td><td>2</td></tr><tr><td>106</td><td>6</td></tr><tr><td>107</td><td>5</td></tr><tr><td>108</td><td>2</td></tr><tr><td>109</td><td>7</td></tr><tr><td>110</td><td>8</td></tr><tr><td>111</td><td>5</td></tr><tr><td>112</td><td>5</td></tr><tr><td>113</td><td>5</td></tr><tr><td>114</td><td>4</td></tr><tr><td>115</td><td>7</td></tr><tr><td>116</td><td>2</td></tr><tr><td>117</td><td>8</td></tr><tr><td>118</td><td>7</td></tr><tr><td>119</td><td>5</td></tr><tr><td>120</td><td>6</td></tr><tr><td>121</td><td>8</td></tr><tr><td>122</td><td>9</td></tr><tr><td>123</td><td>5</td></tr><tr><td>124</td><td>6</td></tr><tr><td>125</td><td>1</td></tr><tr><td>126</td><td>6</td></tr><tr><td>127</td><td>7</td></tr><tr><td>128</td><td>5</td></tr><tr><td>129</td><td>4</td></tr><tr><td>130</td><td>6</td></tr><tr><td>131</td><td>5</td></tr><tr><td>132</td><td>6</td></tr><tr><td>133</td><td>6</td></tr><tr><td>134</td><td>6</td></tr><tr><td>135</td><td>3</td></tr><tr><td>136</td><td>3</td></tr><tr><td>137</td><td>6</td></tr><tr><td>138</td><td>7</td></tr><tr><td>139</td><td>7</td></tr><tr><td>140</td><td>8</td></tr><tr><td>141</td><td>6</td></tr><tr><td>142</td><td>2</td></tr><tr><td>143</td><td>7</td></tr><tr><td>144</td><td>5</td></tr><tr><td>145</td><td>6</td></tr><tr><td>146</td><td>6</td></tr><tr><td>147</td><td>1</td></tr><tr><td>148</td><td>6</td></tr><tr><td>149</td><td>7</td></tr><tr><td>150</td><td>6</td></tr><tr><td>151</td><td>3</td></tr><tr><td>152</td><td>4</td></tr><tr><td>153</td><td>5</td></tr><tr><td>154</td><td>5</td></tr><tr><td>155</td><td>5</td></tr><tr><td>156</td><td>7</td></tr><tr><td>157</td><td>5</td></tr><tr><td>158</td><td>3</td></tr><tr><td>159</td><td>0</td></tr><tr><td>160</td><td>5</td></tr><tr><td>161</td><td>6</td></tr><tr><td>162</td><td>3</td></tr><tr><td>163</td><td>7</td></tr><tr><td>164</td><td>5</td></tr><tr><td>165</td><td>7</td></tr><tr><td>166</td><td>3</td></tr><tr><td>167</td><td>2</td></tr><tr><td>168</td><td>5</td></tr><tr><td>169</td><td>6</td></tr><tr><td>170</td><td>5</td></tr><tr><td>171</td><td>5</td></tr><tr><td>172</td><td>9</td></tr><tr><td>173</td><td>4</td></tr><tr><td>174</td><td>4</td></tr><tr><td>175</td><td>5</td></tr><tr><td>176</td><td>6</td></tr><tr><td>177</td><td>4</td></tr><tr><td>178</td><td>4</td></tr><tr><td>179</td><td>3</td></tr><tr><td>180</td><td>3</td></tr><tr><td>181</td><td>6</td></tr><tr><td>182</td><td>12</td></tr><tr><td>183</td><td>4</td></tr><tr><td>184</td><td>4</td></tr><tr><td>185</td><td>12</td></tr><tr><td>186</td><td>4</td></tr><tr><td>187</td><td>7</td></tr><tr><td>188</td><td>6</td></tr><tr><td>189</td><td>5</td></tr><tr><td>190</td><td>5</td></tr><tr><td>191</td><td>5</td></tr><tr><td>192</td><td>2</td></tr><tr><td>193</td><td>7</td></tr><tr><td>194</td><td>1</td></tr><tr><td>195</td><td>6</td></tr><tr><td>196</td><td>4</td></tr><tr><td>197</td><td>6</td></tr><tr><td>198</td><td>8</td></tr><tr><td>199</td><td>0</td></tr><tr><td>200</td><td>0</td></tr><tr><td>201</td><td>0</td></tr><tr><td>202</td><td>0</td></tr><tr><td>203</td><td>0</td></tr><tr><td>204</td><td>0</td></tr><tr><td>205</td><td>0</td></tr><tr><td>206</td><td>0</td></tr><tr><td>207</td><td>0</td></tr><tr><td>208</td><td>0</td></tr><tr><td>209</td><td>0</td></tr><tr><td>210</td><td>0</td></tr><tr><td>211</td><td>0</td></tr><tr><td>212</td><td>0</td></tr><tr><td>213</td><td>0</td></tr><tr><td>214</td><td>0</td></tr><tr><td>215</td><td>0</td></tr><tr><td>216</td><td>0</td></tr><tr><td>217</td><td>0</td></tr><tr><td>218</td><td>0</td></tr><tr><td>219</td><td>0</td></tr><tr><td>220</td><td>0</td></tr><tr><td>221</td><td>0</td></tr><tr><td>222</td><td>0</td></tr><tr><td>223</td><td>0</td></tr><tr><td>224</td><td>0</td></tr><tr><td>225</td><td>0</td></tr><tr><td>226</td><td>0</td></tr><tr><td>227</td><td>0</td></tr><tr><td>228</td><td>0</td></tr><tr><td>229</td><td>0</td></tr><tr><td>230</td><td>0</td></tr><tr><td>231</td><td>0</td></tr><tr><td>232</td><td>0</td></tr><tr><td>233</td><td>0</td></tr><tr><td>234</td><td>0</td></tr><tr><td>235</td><td>0</td></tr><tr><td>236</td><td>0</td></tr><tr><td>237</td><td>0</td></tr><tr><td>238</td><td>0</td></tr><tr><td>239</td><td>0</td></tr><tr><td>240</td><td>0</td></tr><tr><td>241</td><td>0</td></tr><tr><td>242</td><td>0</td></tr><tr><td>243</td><td>0</td></tr><tr><td>244</td><td>0</td></tr><tr><td>245</td><td>0</td></tr><tr><td>246</td><td>0</td></tr><tr><td>247</td><td>0</td></tr><tr><td>248</td><td>0</td></tr><tr><td>249</td><td>0</td></tr><tr><td>250</td><td>0</td></tr><tr><td>251</td><td>0</td></tr><tr><td>252</td><td>0</td></tr><tr><td>253</td><td>0</td></tr><tr><td>254</td><td>0</td></tr><tr><td>255</td><td>0</td></tr><tr><td>256</td><td>0</td></tr><tr><td>257</td><td>0</td></tr><tr><td>258</td><td>0</td></tr><tr><td>259</td><td>0</td></tr><tr><td>260</td><td>0</td></tr><tr><td>261</td><td>0</td></tr><tr><td>262</td><td>0</td></tr><tr><td>263</td><td>0</td></tr><tr><td>264</td><td>0</td></tr><tr><td>265</td><td>0</td></tr><tr><td>266</td><td>0</td></tr><tr><td>267</td><td>0</td></tr><tr><td>268</td><td>0</td></tr><tr><td>269</td><td>0</td></tr><tr><td>270</td><td>0</td></tr><tr><td>271</td><td>0</td></tr><tr><td>272</td><td>0</td></tr><tr><td>273</td><td>0</td></tr><tr><td>274</td><td>0</td></tr><tr><td>275</td><td>0</td></tr><tr><td>276</td><td>0</td></tr><tr><td>277</td><td>0</td></tr><tr><td>278</td><td>0</td></tr><tr><td>279</td><td>0</td></tr><tr><td>280</td><td>0</td></tr><tr><td>281</td><td>0</td></tr><tr><td>282</td><td>0</td></tr><tr><td>283</td><td>0</td></tr><tr><td>284</td><td>0</td></tr><tr><td>285</td><td>0</td></tr><tr><td>286</td><td>0</td></tr><tr><td>287</td><td>0</td></tr><tr><td>288</td><td>0</td></tr><tr><td>289</td><td>0</td></tr><tr><td>290</td><td>0</td></tr><tr><td>291</td><td>0</td></tr><tr><td>292</td><td>0</td></tr><tr><td>293</td><td>0</td></tr><tr><td>294</td><td>0</td></tr></table>"
                    },
                    "metadata": {}
                }
            ],
            "execution_count": 4
        },
        {
            "cell_type": "markdown",
            "source": [
                "2\\. Feladat"
            ],
            "metadata": {
                "azdata_cell_guid": "32a1e183-6528-418a-ab9b-e929cd89ff50"
            },
            "attachments": {}
        },
        {
            "cell_type": "code",
            "source": [
                "WITH Legtöbb_Csillag AS (\r\n",
                "    SELECT \r\n",
                "        HELY, \r\n",
                "        MAX(CSILLAGOK_SZAMA) AS Legtöbb_Csillag\r\n",
                "    FROM \r\n",
                "        SZALLASHELY\r\n",
                "    GROUP BY \r\n",
                "        HELY\r\n",
                ")\r\n",
                "SELECT \r\n",
                "    S.SZALLAS_ID, \r\n",
                "    S.SZALLAS_NEV\r\n",
                "FROM \r\n",
                "    SZALLASHELY S\r\n",
                "JOIN \r\n",
                "    Legtöbb_Csillag M ON S.HELY = M.HELY AND S.CSILLAGOK_SZAMA = M.Legtöbb_Csillag\r\n",
                "ORDER BY \r\n",
                "    S.HELY, S.SZALLAS_NEV;\r\n",
                ""
            ],
            "metadata": {
                "azdata_cell_guid": "5ae4af3c-6464-4ab1-a73d-36dd69cc50a4",
                "language": "sql"
            },
            "outputs": [
                {
                    "output_type": "display_data",
                    "data": {
                        "text/html": "(11 rows affected)"
                    },
                    "metadata": {}
                },
                {
                    "output_type": "display_data",
                    "data": {
                        "text/html": "Total execution time: 00:00:00.008"
                    },
                    "metadata": {}
                },
                {
                    "output_type": "execute_result",
                    "execution_count": 7,
                    "data": {
                        "application/vnd.dataresource+json": {
                            "schema": {
                                "fields": [
                                    {
                                        "name": "SZALLAS_ID"
                                    },
                                    {
                                        "name": "SZALLAS_NEV"
                                    }
                                ]
                            },
                            "data": [
                                {
                                    "SZALLAS_ID": "8",
                                    "SZALLAS_NEV": "Hotel Három Hattyú"
                                },
                                {
                                    "SZALLAS_ID": "11",
                                    "SZALLAS_NEV": "Partiszél Vendégház"
                                },
                                {
                                    "SZALLAS_ID": "5",
                                    "SZALLAS_NEV": "Fortuna Panzió"
                                },
                                {
                                    "SZALLAS_ID": "10",
                                    "SZALLAS_NEV": "Lagúna Hotel"
                                },
                                {
                                    "SZALLAS_ID": "13",
                                    "SZALLAS_NEV": "Riviéra Panzió"
                                },
                                {
                                    "SZALLAS_ID": "18",
                                    "SZALLAS_NEV": "Fortuna Apartman"
                                },
                                {
                                    "SZALLAS_ID": "21",
                                    "SZALLAS_NEV": "Müller Vendégház"
                                },
                                {
                                    "SZALLAS_ID": "19",
                                    "SZALLAS_NEV": "Nyárfás Vendégház"
                                },
                                {
                                    "SZALLAS_ID": "3",
                                    "SZALLAS_NEV": "Fortuna Apartman"
                                },
                                {
                                    "SZALLAS_ID": "16",
                                    "SZALLAS_NEV": "Bagoly Hotel"
                                },
                                {
                                    "SZALLAS_ID": "17",
                                    "SZALLAS_NEV": "Szarvas Hotel"
                                }
                            ]
                        },
                        "text/html": "<table><tr><th>SZALLAS_ID</th><th>SZALLAS_NEV</th></tr><tr><td>8</td><td>Hotel Három Hattyú</td></tr><tr><td>11</td><td>Partiszél Vendégház</td></tr><tr><td>5</td><td>Fortuna Panzió</td></tr><tr><td>10</td><td>Lagúna Hotel</td></tr><tr><td>13</td><td>Riviéra Panzió</td></tr><tr><td>18</td><td>Fortuna Apartman</td></tr><tr><td>21</td><td>Müller Vendégház</td></tr><tr><td>19</td><td>Nyárfás Vendégház</td></tr><tr><td>3</td><td>Fortuna Apartman</td></tr><tr><td>16</td><td>Bagoly Hotel</td></tr><tr><td>17</td><td>Szarvas Hotel</td></tr></table>"
                    },
                    "metadata": {}
                }
            ],
            "execution_count": 7
        },
        {
            "cell_type": "markdown",
            "source": [
                "3\\. Feladat"
            ],
            "metadata": {
                "azdata_cell_guid": "ba545972-cf64-404d-a3e0-a15390bfb3e5"
            },
            "attachments": {}
        },
        {
            "cell_type": "code",
            "source": [
                "WITH FoglalasokSzama AS (\r\n",
                "    SELECT \r\n",
                "        V.USERNEV, \r\n",
                "        V.NEV, \r\n",
                "        COUNT(F.FOGLALAS_PK) AS FoglalasokSzama\r\n",
                "    FROM \r\n",
                "        VENDEG V\r\n",
                "    LEFT JOIN \r\n",
                "        FOGLALAS F ON V.USERNEV = F.UGYFEL_FK\r\n",
                "    GROUP BY \r\n",
                "        V.USERNEV, V.NEV\r\n",
                "), RangsoroltVendégek AS (\r\n",
                "    SELECT \r\n",
                "        USERNEV, \r\n",
                "        NEV, \r\n",
                "        FoglalasokSzama,\r\n",
                "        RANK() OVER (ORDER BY FoglalasokSzama DESC) AS RANGSOR\r\n",
                "    FROM \r\n",
                "        FoglalasokSzama\r\n",
                ")\r\n",
                "SELECT \r\n",
                "    RANGSOR,\r\n",
                "    USERNEV,\r\n",
                "    NEV,\r\n",
                "    FoglalasokSzama\r\n",
                "FROM \r\n",
                "    RangsoroltVendégek\r\n",
                "ORDER BY \r\n",
                "    RANGSOR;\r\n",
                ""
            ],
            "metadata": {
                "azdata_cell_guid": "f0304fc1-3be0-4836-b709-e45a9dee731a",
                "language": "sql"
            },
            "outputs": [
                {
                    "output_type": "display_data",
                    "data": {
                        "text/html": "(196 rows affected)"
                    },
                    "metadata": {}
                },
                {
                    "output_type": "display_data",
                    "data": {
                        "text/html": "Total execution time: 00:00:00.046"
                    },
                    "metadata": {}
                },
                {
                    "output_type": "execute_result",
                    "execution_count": 12,
                    "data": {
                        "application/vnd.dataresource+json": {
                            "schema": {
                                "fields": [
                                    {
                                        "name": "RANGSOR"
                                    },
                                    {
                                        "name": "USERNEV"
                                    },
                                    {
                                        "name": "NEV"
                                    },
                                    {
                                        "name": "FoglalasokSzama"
                                    }
                                ]
                            },
                            "data": [
                                {
                                    "RANGSOR": "1",
                                    "USERNEV": "andras41",
                                    "NEV": "Komjáti András",
                                    "FoglalasokSzama": "13"
                                },
                                {
                                    "RANGSOR": "1",
                                    "USERNEV": "ARONK",
                                    "NEV": "Kelemen Áron",
                                    "FoglalasokSzama": "13"
                                },
                                {
                                    "RANGSOR": "3",
                                    "USERNEV": "krisztian4",
                                    "NEV": "Czérna Krisztián",
                                    "FoglalasokSzama": "12"
                                },
                                {
                                    "RANGSOR": "3",
                                    "USERNEV": "peter4",
                                    "NEV": "Bíró Péter",
                                    "FoglalasokSzama": "12"
                                },
                                {
                                    "RANGSOR": "3",
                                    "USERNEV": "sara",
                                    "NEV": "Farkas Sára",
                                    "FoglalasokSzama": "12"
                                },
                                {
                                    "RANGSOR": "3",
                                    "USERNEV": "zoltan4",
                                    "NEV": "Barna Zoltán",
                                    "FoglalasokSzama": "12"
                                },
                                {
                                    "RANGSOR": "7",
                                    "USERNEV": "kata",
                                    "NEV": "Gondos Katalin",
                                    "FoglalasokSzama": "10"
                                },
                                {
                                    "RANGSOR": "7",
                                    "USERNEV": "akos",
                                    "NEV": "Bíró Ákos",
                                    "FoglalasokSzama": "10"
                                },
                                {
                                    "RANGSOR": "7",
                                    "USERNEV": "balazs2",
                                    "NEV": "Szűcs Balázs",
                                    "FoglalasokSzama": "10"
                                },
                                {
                                    "RANGSOR": "7",
                                    "USERNEV": "balint1",
                                    "NEV": "Molnár Bálint",
                                    "FoglalasokSzama": "10"
                                },
                                {
                                    "RANGSOR": "7",
                                    "USERNEV": "eszter2",
                                    "NEV": "Balogh Eszter",
                                    "FoglalasokSzama": "10"
                                },
                                {
                                    "RANGSOR": "12",
                                    "USERNEV": "dani",
                                    "NEV": "Vörös Dániel",
                                    "FoglalasokSzama": "9"
                                },
                                {
                                    "RANGSOR": "12",
                                    "USERNEV": "daniel",
                                    "NEV": "Rácz Dániel",
                                    "FoglalasokSzama": "9"
                                },
                                {
                                    "RANGSOR": "12",
                                    "USERNEV": "david",
                                    "NEV": "Ambrus Dávid",
                                    "FoglalasokSzama": "9"
                                },
                                {
                                    "RANGSOR": "12",
                                    "USERNEV": "BEATRIXK",
                                    "NEV": "Kerényi Beatrix",
                                    "FoglalasokSzama": "9"
                                },
                                {
                                    "RANGSOR": "12",
                                    "USERNEV": "bence",
                                    "NEV": "Győrffy Bence",
                                    "FoglalasokSzama": "9"
                                },
                                {
                                    "RANGSOR": "12",
                                    "USERNEV": "ANIKOS",
                                    "NEV": "Simon Anikó",
                                    "FoglalasokSzama": "9"
                                },
                                {
                                    "RANGSOR": "12",
                                    "USERNEV": "katalin",
                                    "NEV": "Horváth Katalin",
                                    "FoglalasokSzama": "9"
                                },
                                {
                                    "RANGSOR": "12",
                                    "USERNEV": "katka",
                                    "NEV": "Kovács Katalin",
                                    "FoglalasokSzama": "9"
                                },
                                {
                                    "RANGSOR": "12",
                                    "USERNEV": "norbert4",
                                    "NEV": "Mile Norbert",
                                    "FoglalasokSzama": "9"
                                },
                                {
                                    "RANGSOR": "12",
                                    "USERNEV": "szilvia1",
                                    "NEV": "Tari Szilvia",
                                    "FoglalasokSzama": "9"
                                },
                                {
                                    "RANGSOR": "12",
                                    "USERNEV": "TAMASF",
                                    "NEV": "Fényes Tamás",
                                    "FoglalasokSzama": "9"
                                },
                                {
                                    "RANGSOR": "23",
                                    "USERNEV": "tunde",
                                    "NEV": "Turcsik Tünde",
                                    "FoglalasokSzama": "8"
                                },
                                {
                                    "RANGSOR": "23",
                                    "USERNEV": "ROBERTI",
                                    "NEV": "Iván Róbert",
                                    "FoglalasokSzama": "8"
                                },
                                {
                                    "RANGSOR": "23",
                                    "USERNEV": "MATYASS",
                                    "NEV": "Szilágyi Mátyás",
                                    "FoglalasokSzama": "8"
                                },
                                {
                                    "RANGSOR": "23",
                                    "USERNEV": "krisztina",
                                    "NEV": "Szedlár Krisztina",
                                    "FoglalasokSzama": "8"
                                },
                                {
                                    "RANGSOR": "23",
                                    "USERNEV": "maria1",
                                    "NEV": "Baráth Mária",
                                    "FoglalasokSzama": "8"
                                },
                                {
                                    "RANGSOR": "23",
                                    "USERNEV": "fruzsina4",
                                    "NEV": "Frank Fruzsina",
                                    "FoglalasokSzama": "8"
                                },
                                {
                                    "RANGSOR": "23",
                                    "USERNEV": "GYORGYO",
                                    "NEV": "Oroszi György",
                                    "FoglalasokSzama": "8"
                                },
                                {
                                    "RANGSOR": "23",
                                    "USERNEV": "anett3",
                                    "NEV": "Pivarcsi Anett",
                                    "FoglalasokSzama": "8"
                                },
                                {
                                    "RANGSOR": "23",
                                    "USERNEV": "andras3",
                                    "NEV": "Vígh András",
                                    "FoglalasokSzama": "8"
                                },
                                {
                                    "RANGSOR": "23",
                                    "USERNEV": "bernadett2",
                                    "NEV": "Kovács Bernadett",
                                    "FoglalasokSzama": "8"
                                },
                                {
                                    "RANGSOR": "23",
                                    "USERNEV": "csongor3",
                                    "NEV": "Nagymihály Csongor",
                                    "FoglalasokSzama": "8"
                                },
                                {
                                    "RANGSOR": "34",
                                    "USERNEV": "daniel1",
                                    "NEV": "Keszler Dániel",
                                    "FoglalasokSzama": "7"
                                },
                                {
                                    "RANGSOR": "34",
                                    "USERNEV": "edit",
                                    "NEV": "Bittmann Edit",
                                    "FoglalasokSzama": "7"
                                },
                                {
                                    "RANGSOR": "34",
                                    "USERNEV": "emese",
                                    "NEV": "Kuruc Emese",
                                    "FoglalasokSzama": "7"
                                },
                                {
                                    "RANGSOR": "34",
                                    "USERNEV": "BERNADETTO",
                                    "NEV": "Orbán Bernadett",
                                    "FoglalasokSzama": "7"
                                },
                                {
                                    "RANGSOR": "34",
                                    "USERNEV": "bernadett1",
                                    "NEV": "Simon Bernadett",
                                    "FoglalasokSzama": "7"
                                },
                                {
                                    "RANGSOR": "34",
                                    "USERNEV": "alexandra",
                                    "NEV": "Bagóczki Alexandra",
                                    "FoglalasokSzama": "7"
                                },
                                {
                                    "RANGSOR": "34",
                                    "USERNEV": "andras21",
                                    "NEV": "Molnár András",
                                    "FoglalasokSzama": "7"
                                },
                                {
                                    "RANGSOR": "34",
                                    "USERNEV": "arpad2",
                                    "NEV": "Ötvös Árpád",
                                    "FoglalasokSzama": "7"
                                },
                                {
                                    "RANGSOR": "34",
                                    "USERNEV": "ARPADH",
                                    "NEV": "Horváth Árpád",
                                    "FoglalasokSzama": "7"
                                },
                                {
                                    "RANGSOR": "34",
                                    "USERNEV": "GYONGYIK",
                                    "NEV": "Kornseé Gyöngyi",
                                    "FoglalasokSzama": "7"
                                },
                                {
                                    "RANGSOR": "34",
                                    "USERNEV": "imre1",
                                    "NEV": "Papp Imre",
                                    "FoglalasokSzama": "7"
                                },
                                {
                                    "RANGSOR": "34",
                                    "USERNEV": "JANOSG",
                                    "NEV": "Giliga János",
                                    "FoglalasokSzama": "7"
                                },
                                {
                                    "RANGSOR": "34",
                                    "USERNEV": "JOZSEFG",
                                    "NEV": "Gyuris József",
                                    "FoglalasokSzama": "7"
                                },
                                {
                                    "RANGSOR": "34",
                                    "USERNEV": "kati",
                                    "NEV": "Zatykó Katalin",
                                    "FoglalasokSzama": "7"
                                },
                                {
                                    "RANGSOR": "34",
                                    "USERNEV": "marton",
                                    "NEV": "Kalacsi Márton",
                                    "FoglalasokSzama": "7"
                                },
                                {
                                    "RANGSOR": "34",
                                    "USERNEV": "nikoletta4",
                                    "NEV": "Kő Nikoletta",
                                    "FoglalasokSzama": "7"
                                },
                                {
                                    "RANGSOR": "34",
                                    "USERNEV": "norbert2",
                                    "NEV": "Hegedűs Norbert",
                                    "FoglalasokSzama": "7"
                                },
                                {
                                    "RANGSOR": "34",
                                    "USERNEV": "SZABOLCSM",
                                    "NEV": "Miklós Szabolcs",
                                    "FoglalasokSzama": "7"
                                },
                                {
                                    "RANGSOR": "34",
                                    "USERNEV": "SZILARDS",
                                    "NEV": "Szalai Szilárd",
                                    "FoglalasokSzama": "7"
                                },
                                {
                                    "RANGSOR": "34",
                                    "USERNEV": "vivien3",
                                    "NEV": "Boros Vivien",
                                    "FoglalasokSzama": "7"
                                },
                                {
                                    "RANGSOR": "54",
                                    "USERNEV": "veronika4",
                                    "NEV": "Tankó Veronika",
                                    "FoglalasokSzama": "6"
                                },
                                {
                                    "RANGSOR": "54",
                                    "USERNEV": "ZOLTANP",
                                    "NEV": "Pintér Zoltán",
                                    "FoglalasokSzama": "6"
                                },
                                {
                                    "RANGSOR": "54",
                                    "USERNEV": "ZSOLTJ",
                                    "NEV": "Józsa Zsolt",
                                    "FoglalasokSzama": "6"
                                },
                                {
                                    "RANGSOR": "54",
                                    "USERNEV": "ZSUZSAV",
                                    "NEV": "Vajda Zsuzsa",
                                    "FoglalasokSzama": "6"
                                },
                                {
                                    "RANGSOR": "54",
                                    "USERNEV": "tihamer",
                                    "NEV": "Kazy Tihamér",
                                    "FoglalasokSzama": "6"
                                },
                                {
                                    "RANGSOR": "54",
                                    "USERNEV": "peter3",
                                    "NEV": "Szalai Péter",
                                    "FoglalasokSzama": "6"
                                },
                                {
                                    "RANGSOR": "54",
                                    "USERNEV": "polla",
                                    "NEV": "Palágyi Polla",
                                    "FoglalasokSzama": "6"
                                },
                                {
                                    "RANGSOR": "54",
                                    "USERNEV": "RENATAK",
                                    "NEV": "Kardos Renáta",
                                    "FoglalasokSzama": "6"
                                },
                                {
                                    "RANGSOR": "54",
                                    "USERNEV": "MONIKAM",
                                    "NEV": "Mohos Mónika",
                                    "FoglalasokSzama": "6"
                                },
                                {
                                    "RANGSOR": "54",
                                    "USERNEV": "KRISZTIANM",
                                    "NEV": "Mogyródi Krisztián",
                                    "FoglalasokSzama": "6"
                                },
                                {
                                    "RANGSOR": "54",
                                    "USERNEV": "krisztina1",
                                    "NEV": "Bori Krisztina",
                                    "FoglalasokSzama": "6"
                                },
                                {
                                    "RANGSOR": "54",
                                    "USERNEV": "kriszti",
                                    "NEV": "Horváth Krisztina",
                                    "FoglalasokSzama": "6"
                                },
                                {
                                    "RANGSOR": "54",
                                    "USERNEV": "LASZLON",
                                    "NEV": "Nagy László",
                                    "FoglalasokSzama": "6"
                                },
                                {
                                    "RANGSOR": "54",
                                    "USERNEV": "lala",
                                    "NEV": "Nagymihály Lajos",
                                    "FoglalasokSzama": "6"
                                },
                                {
                                    "RANGSOR": "54",
                                    "USERNEV": "katalin4",
                                    "NEV": "Kertész Katalin",
                                    "FoglalasokSzama": "6"
                                },
                                {
                                    "RANGSOR": "54",
                                    "USERNEV": "gabor1",
                                    "NEV": "Köves Gábor",
                                    "FoglalasokSzama": "6"
                                },
                                {
                                    "RANGSOR": "54",
                                    "USERNEV": "gabriella1",
                                    "NEV": "Nagy Gabriella",
                                    "FoglalasokSzama": "6"
                                },
                                {
                                    "RANGSOR": "54",
                                    "USERNEV": "ARPADM",
                                    "NEV": "Móricz Árpád",
                                    "FoglalasokSzama": "6"
                                },
                                {
                                    "RANGSOR": "54",
                                    "USERNEV": "ANNAMARIAR",
                                    "NEV": "Regős Annamária",
                                    "FoglalasokSzama": "6"
                                },
                                {
                                    "RANGSOR": "54",
                                    "USERNEV": "aron2",
                                    "NEV": "Jakab Áron",
                                    "FoglalasokSzama": "6"
                                },
                                {
                                    "RANGSOR": "54",
                                    "USERNEV": "attila1",
                                    "NEV": "Gulyás Attila",
                                    "FoglalasokSzama": "6"
                                },
                                {
                                    "RANGSOR": "54",
                                    "USERNEV": "andrea",
                                    "NEV": "Kiss Andrea",
                                    "FoglalasokSzama": "6"
                                },
                                {
                                    "RANGSOR": "54",
                                    "USERNEV": "AGNESH",
                                    "NEV": "Horváth Ágnes",
                                    "FoglalasokSzama": "6"
                                },
                                {
                                    "RANGSOR": "54",
                                    "USERNEV": "adam4",
                                    "NEV": "Bieniek Ádám",
                                    "FoglalasokSzama": "6"
                                },
                                {
                                    "RANGSOR": "54",
                                    "USERNEV": "beata4",
                                    "NEV": "Bagi Beáta",
                                    "FoglalasokSzama": "6"
                                },
                                {
                                    "RANGSOR": "54",
                                    "USERNEV": "BENCEB",
                                    "NEV": "Bajusz Bence",
                                    "FoglalasokSzama": "6"
                                },
                                {
                                    "RANGSOR": "54",
                                    "USERNEV": "bertalan",
                                    "NEV": "Csiger Bertalan",
                                    "FoglalasokSzama": "6"
                                },
                                {
                                    "RANGSOR": "54",
                                    "USERNEV": "BEATRIXS",
                                    "NEV": "Szekendi Beatrix",
                                    "FoglalasokSzama": "6"
                                },
                                {
                                    "RANGSOR": "54",
                                    "USERNEV": "BELAF",
                                    "NEV": "Farkas Béla",
                                    "FoglalasokSzama": "6"
                                },
                                {
                                    "RANGSOR": "54",
                                    "USERNEV": "balazs3",
                                    "NEV": "Bakódy Balázs",
                                    "FoglalasokSzama": "6"
                                },
                                {
                                    "RANGSOR": "54",
                                    "USERNEV": "balazs1",
                                    "NEV": "Bozsik Balázs",
                                    "FoglalasokSzama": "6"
                                },
                                {
                                    "RANGSOR": "54",
                                    "USERNEV": "david1",
                                    "NEV": "Sobják Dávid",
                                    "FoglalasokSzama": "6"
                                },
                                {
                                    "RANGSOR": "54",
                                    "USERNEV": "denes",
                                    "NEV": "Tömböly Dénes",
                                    "FoglalasokSzama": "6"
                                },
                                {
                                    "RANGSOR": "87",
                                    "USERNEV": "dora3",
                                    "NEV": "Sarodi Dóra",
                                    "FoglalasokSzama": "5"
                                },
                                {
                                    "RANGSOR": "87",
                                    "USERNEV": "EVAV",
                                    "NEV": "Viktor Éva",
                                    "FoglalasokSzama": "5"
                                },
                                {
                                    "RANGSOR": "87",
                                    "USERNEV": "brigitta",
                                    "NEV": "Székely Brigitta",
                                    "FoglalasokSzama": "5"
                                },
                                {
                                    "RANGSOR": "87",
                                    "USERNEV": "brigitta3",
                                    "NEV": "Pataki Brigitta",
                                    "FoglalasokSzama": "5"
                                },
                                {
                                    "RANGSOR": "87",
                                    "USERNEV": "agnes",
                                    "NEV": "Lengyel Ágnes",
                                    "FoglalasokSzama": "5"
                                },
                                {
                                    "RANGSOR": "87",
                                    "USERNEV": "ANDRASE",
                                    "NEV": "Erdei András",
                                    "FoglalasokSzama": "5"
                                },
                                {
                                    "RANGSOR": "87",
                                    "USERNEV": "andi",
                                    "NEV": "Maródi Andrea",
                                    "FoglalasokSzama": "5"
                                },
                                {
                                    "RANGSOR": "87",
                                    "USERNEV": "andras2",
                                    "NEV": "Tóth András",
                                    "FoglalasokSzama": "5"
                                },
                                {
                                    "RANGSOR": "87",
                                    "USERNEV": "gusztav",
                                    "NEV": "Bárci Gusztáv",
                                    "FoglalasokSzama": "5"
                                },
                                {
                                    "RANGSOR": "87",
                                    "USERNEV": "julia",
                                    "NEV": "Tóth Júlia",
                                    "FoglalasokSzama": "5"
                                },
                                {
                                    "RANGSOR": "87",
                                    "USERNEV": "janos3",
                                    "NEV": "Harangozó János",
                                    "FoglalasokSzama": "5"
                                },
                                {
                                    "RANGSOR": "87",
                                    "USERNEV": "jozsef2",
                                    "NEV": "Vajda József",
                                    "FoglalasokSzama": "5"
                                },
                                {
                                    "RANGSOR": "87",
                                    "USERNEV": "laszlo2",
                                    "NEV": "Móra László",
                                    "FoglalasokSzama": "5"
                                },
                                {
                                    "RANGSOR": "87",
                                    "USERNEV": "mark",
                                    "NEV": "Kispál Márk",
                                    "FoglalasokSzama": "5"
                                },
                                {
                                    "RANGSOR": "87",
                                    "USERNEV": "KRISZTINAG",
                                    "NEV": "Gyárfás Krisztina",
                                    "FoglalasokSzama": "5"
                                },
                                {
                                    "RANGSOR": "87",
                                    "USERNEV": "MIHALYJ",
                                    "NEV": "Juhász Mihály",
                                    "FoglalasokSzama": "5"
                                },
                                {
                                    "RANGSOR": "87",
                                    "USERNEV": "norbert",
                                    "NEV": "Szűcs Norbert",
                                    "FoglalasokSzama": "5"
                                },
                                {
                                    "RANGSOR": "87",
                                    "USERNEV": "pal",
                                    "NEV": "Barabás Pál",
                                    "FoglalasokSzama": "5"
                                },
                                {
                                    "RANGSOR": "87",
                                    "USERNEV": "RENATAS",
                                    "NEV": "Szirmai Renáta",
                                    "FoglalasokSzama": "5"
                                },
                                {
                                    "RANGSOR": "87",
                                    "USERNEV": "PETERB",
                                    "NEV": "Berendi Péter",
                                    "FoglalasokSzama": "5"
                                },
                                {
                                    "RANGSOR": "87",
                                    "USERNEV": "reka4",
                                    "NEV": "Szikszai Réka",
                                    "FoglalasokSzama": "5"
                                },
                                {
                                    "RANGSOR": "87",
                                    "USERNEV": "sandor3",
                                    "NEV": "Farkas Sándor",
                                    "FoglalasokSzama": "5"
                                },
                                {
                                    "RANGSOR": "87",
                                    "USERNEV": "valentin",
                                    "NEV": "Feró Valentin",
                                    "FoglalasokSzama": "5"
                                },
                                {
                                    "RANGSOR": "87",
                                    "USERNEV": "timea2",
                                    "NEV": "Dusha Tímea",
                                    "FoglalasokSzama": "5"
                                },
                                {
                                    "RANGSOR": "87",
                                    "USERNEV": "SEBASTIANF",
                                    "NEV": "Foltényi Sebastián",
                                    "FoglalasokSzama": "5"
                                },
                                {
                                    "RANGSOR": "112",
                                    "USERNEV": "sebestyen",
                                    "NEV": "Rab Sebestyén",
                                    "FoglalasokSzama": "4"
                                },
                                {
                                    "RANGSOR": "112",
                                    "USERNEV": "tamas",
                                    "NEV": "Antal Tamás",
                                    "FoglalasokSzama": "4"
                                },
                                {
                                    "RANGSOR": "112",
                                    "USERNEV": "sandor4",
                                    "NEV": "Nagy Sándor",
                                    "FoglalasokSzama": "4"
                                },
                                {
                                    "RANGSOR": "112",
                                    "USERNEV": "sandor",
                                    "NEV": "Karasz Sándor",
                                    "FoglalasokSzama": "4"
                                },
                                {
                                    "RANGSOR": "112",
                                    "USERNEV": "roland",
                                    "NEV": "Tóth Roland",
                                    "FoglalasokSzama": "4"
                                },
                                {
                                    "RANGSOR": "112",
                                    "USERNEV": "roland1",
                                    "NEV": "Ferencz Roland",
                                    "FoglalasokSzama": "4"
                                },
                                {
                                    "RANGSOR": "112",
                                    "USERNEV": "robert2",
                                    "NEV": "Patay Róbert",
                                    "FoglalasokSzama": "4"
                                },
                                {
                                    "RANGSOR": "112",
                                    "USERNEV": "rajmond4",
                                    "NEV": "Rácz Rajmond",
                                    "FoglalasokSzama": "4"
                                },
                                {
                                    "RANGSOR": "112",
                                    "USERNEV": "zsolt1",
                                    "NEV": "Pulai Zsolt",
                                    "FoglalasokSzama": "4"
                                },
                                {
                                    "RANGSOR": "112",
                                    "USERNEV": "zsuzsa3",
                                    "NEV": "Varsányi Zsuzsa",
                                    "FoglalasokSzama": "4"
                                },
                                {
                                    "RANGSOR": "112",
                                    "USERNEV": "zsuzsanna",
                                    "NEV": "Barta Zsuzsanna",
                                    "FoglalasokSzama": "4"
                                },
                                {
                                    "RANGSOR": "112",
                                    "USERNEV": "VIKTORIAU",
                                    "NEV": "Urbán Viktoria",
                                    "FoglalasokSzama": "4"
                                },
                                {
                                    "RANGSOR": "112",
                                    "USERNEV": "peter1",
                                    "NEV": "Kozma Péter",
                                    "FoglalasokSzama": "4"
                                },
                                {
                                    "RANGSOR": "112",
                                    "USERNEV": "peter2",
                                    "NEV": "Bozsó Péter",
                                    "FoglalasokSzama": "4"
                                },
                                {
                                    "RANGSOR": "112",
                                    "USERNEV": "nikolett3",
                                    "NEV": "Horváth Nikolett",
                                    "FoglalasokSzama": "4"
                                },
                                {
                                    "RANGSOR": "112",
                                    "USERNEV": "NIKOLETTAT",
                                    "NEV": "Tatár Nikoletta",
                                    "FoglalasokSzama": "4"
                                },
                                {
                                    "RANGSOR": "112",
                                    "USERNEV": "julianna4",
                                    "NEV": "Szabó Julianna",
                                    "FoglalasokSzama": "4"
                                },
                                {
                                    "RANGSOR": "112",
                                    "USERNEV": "MARKH",
                                    "NEV": "Horváth Márk",
                                    "FoglalasokSzama": "4"
                                },
                                {
                                    "RANGSOR": "112",
                                    "USERNEV": "LASZLOA",
                                    "NEV": "Antal László",
                                    "FoglalasokSzama": "4"
                                },
                                {
                                    "RANGSOR": "112",
                                    "USERNEV": "JANOSP",
                                    "NEV": "Pálinkás János",
                                    "FoglalasokSzama": "4"
                                },
                                {
                                    "RANGSOR": "112",
                                    "USERNEV": "istvan1",
                                    "NEV": "Vizi István",
                                    "FoglalasokSzama": "4"
                                },
                                {
                                    "RANGSOR": "112",
                                    "USERNEV": "ilona3",
                                    "NEV": "Bosnyák Ilona",
                                    "FoglalasokSzama": "4"
                                },
                                {
                                    "RANGSOR": "112",
                                    "USERNEV": "eva2",
                                    "NEV": "Perlinger Éva",
                                    "FoglalasokSzama": "4"
                                },
                                {
                                    "RANGSOR": "112",
                                    "USERNEV": "georgij",
                                    "NEV": "Nyíri Georgij",
                                    "FoglalasokSzama": "4"
                                },
                                {
                                    "RANGSOR": "112",
                                    "USERNEV": "gabor4",
                                    "NEV": "Telek Gábor",
                                    "FoglalasokSzama": "4"
                                },
                                {
                                    "RANGSOR": "112",
                                    "USERNEV": "aniko4",
                                    "NEV": "Böröcz Anikó",
                                    "FoglalasokSzama": "4"
                                },
                                {
                                    "RANGSOR": "112",
                                    "USERNEV": "anita",
                                    "NEV": "Hamvay-Kovács Anita",
                                    "FoglalasokSzama": "4"
                                },
                                {
                                    "RANGSOR": "112",
                                    "USERNEV": "andrea4",
                                    "NEV": "Neizer Andrea",
                                    "FoglalasokSzama": "4"
                                },
                                {
                                    "RANGSOR": "112",
                                    "USERNEV": "ATTILAO",
                                    "NEV": "Opra Attila",
                                    "FoglalasokSzama": "4"
                                },
                                {
                                    "RANGSOR": "112",
                                    "USERNEV": "ferenc1",
                                    "NEV": "Orosz Ferenc",
                                    "FoglalasokSzama": "4"
                                },
                                {
                                    "RANGSOR": "112",
                                    "USERNEV": "ESZTERE",
                                    "NEV": "Érsek Eszter",
                                    "FoglalasokSzama": "4"
                                },
                                {
                                    "RANGSOR": "112",
                                    "USERNEV": "eszter",
                                    "NEV": "Molnár Eszter",
                                    "FoglalasokSzama": "4"
                                },
                                {
                                    "RANGSOR": "112",
                                    "USERNEV": "debora",
                                    "NEV": "Barna Debóra",
                                    "FoglalasokSzama": "4"
                                },
                                {
                                    "RANGSOR": "145",
                                    "USERNEV": "eszter4",
                                    "NEV": "Fülöp Eszter",
                                    "FoglalasokSzama": "3"
                                },
                                {
                                    "RANGSOR": "145",
                                    "USERNEV": "balint",
                                    "NEV": "Horváth Bálint",
                                    "FoglalasokSzama": "3"
                                },
                                {
                                    "RANGSOR": "145",
                                    "USERNEV": "ANDREAT",
                                    "NEV": "Tornyos Andrea",
                                    "FoglalasokSzama": "3"
                                },
                                {
                                    "RANGSOR": "145",
                                    "USERNEV": "aniko",
                                    "NEV": "Tóth Anikó",
                                    "FoglalasokSzama": "3"
                                },
                                {
                                    "RANGSOR": "145",
                                    "USERNEV": "attila4",
                                    "NEV": "Baróti Attila",
                                    "FoglalasokSzama": "3"
                                },
                                {
                                    "RANGSOR": "145",
                                    "USERNEV": "attila",
                                    "NEV": "Csóti Attila",
                                    "FoglalasokSzama": "3"
                                },
                                {
                                    "RANGSOR": "145",
                                    "USERNEV": "andras4",
                                    "NEV": "Back András",
                                    "FoglalasokSzama": "3"
                                },
                                {
                                    "RANGSOR": "145",
                                    "USERNEV": "agnes3",
                                    "NEV": "Hartyánszky Ágnes",
                                    "FoglalasokSzama": "3"
                                },
                                {
                                    "RANGSOR": "145",
                                    "USERNEV": "adam1",
                                    "NEV": "Kiss Ádám",
                                    "FoglalasokSzama": "3"
                                },
                                {
                                    "RANGSOR": "145",
                                    "USERNEV": "AGNESK",
                                    "NEV": "Kovács Ágnes",
                                    "FoglalasokSzama": "3"
                                },
                                {
                                    "RANGSOR": "145",
                                    "USERNEV": "aladar",
                                    "NEV": "Dunai Aladár",
                                    "FoglalasokSzama": "3"
                                },
                                {
                                    "RANGSOR": "145",
                                    "USERNEV": "istvan",
                                    "NEV": "Soós István",
                                    "FoglalasokSzama": "3"
                                },
                                {
                                    "RANGSOR": "145",
                                    "USERNEV": "henrik3",
                                    "NEV": "Nádudvari Henrik",
                                    "FoglalasokSzama": "3"
                                },
                                {
                                    "RANGSOR": "145",
                                    "USERNEV": "IBOLYAA",
                                    "NEV": "Andor Ibolya",
                                    "FoglalasokSzama": "3"
                                },
                                {
                                    "RANGSOR": "145",
                                    "USERNEV": "jozsef",
                                    "NEV": "Gergely József",
                                    "FoglalasokSzama": "3"
                                },
                                {
                                    "RANGSOR": "145",
                                    "USERNEV": "JUDITH",
                                    "NEV": "Hídasi Judit",
                                    "FoglalasokSzama": "3"
                                },
                                {
                                    "RANGSOR": "145",
                                    "USERNEV": "klaudia2",
                                    "NEV": "Bakó Klaudia",
                                    "FoglalasokSzama": "3"
                                },
                                {
                                    "RANGSOR": "145",
                                    "USERNEV": "kornel4",
                                    "NEV": "Lukács Kornél",
                                    "FoglalasokSzama": "3"
                                },
                                {
                                    "RANGSOR": "145",
                                    "USERNEV": "lajos",
                                    "NEV": "Kiss Lajos",
                                    "FoglalasokSzama": "3"
                                },
                                {
                                    "RANGSOR": "145",
                                    "USERNEV": "norbert5",
                                    "NEV": "Béres Norbert",
                                    "FoglalasokSzama": "3"
                                },
                                {
                                    "RANGSOR": "145",
                                    "USERNEV": "miklos2",
                                    "NEV": "Gondos Miklós",
                                    "FoglalasokSzama": "3"
                                },
                                {
                                    "RANGSOR": "145",
                                    "USERNEV": "MIKLOSB",
                                    "NEV": "Balla Miklós",
                                    "FoglalasokSzama": "3"
                                },
                                {
                                    "RANGSOR": "145",
                                    "USERNEV": "NANDORF",
                                    "NEV": "Fő Nándor",
                                    "FoglalasokSzama": "3"
                                },
                                {
                                    "RANGSOR": "145",
                                    "USERNEV": "MATEK",
                                    "NEV": "Koza Máté",
                                    "FoglalasokSzama": "3"
                                },
                                {
                                    "RANGSOR": "145",
                                    "USERNEV": "ZOLTANT",
                                    "NEV": "Tóth Zoltán",
                                    "FoglalasokSzama": "3"
                                },
                                {
                                    "RANGSOR": "145",
                                    "USERNEV": "zsuzsa",
                                    "NEV": "Pusztai Zsuzsanna",
                                    "FoglalasokSzama": "3"
                                },
                                {
                                    "RANGSOR": "145",
                                    "USERNEV": "roza2",
                                    "NEV": "Bucskó Róza",
                                    "FoglalasokSzama": "3"
                                },
                                {
                                    "RANGSOR": "172",
                                    "USERNEV": "ROBERTP",
                                    "NEV": "Pásztor Róbert",
                                    "FoglalasokSzama": "2"
                                },
                                {
                                    "RANGSOR": "172",
                                    "USERNEV": "tibor",
                                    "NEV": "Gombos Tibor",
                                    "FoglalasokSzama": "2"
                                },
                                {
                                    "RANGSOR": "172",
                                    "USERNEV": "tamara2",
                                    "NEV": "Miklós Tamara",
                                    "FoglalasokSzama": "2"
                                },
                                {
                                    "RANGSOR": "172",
                                    "USERNEV": "zsofi1",
                                    "NEV": "Molnár Zsófi",
                                    "FoglalasokSzama": "2"
                                },
                                {
                                    "RANGSOR": "172",
                                    "USERNEV": "VIKTORK",
                                    "NEV": "Keresztúri Viktor",
                                    "FoglalasokSzama": "2"
                                },
                                {
                                    "RANGSOR": "172",
                                    "USERNEV": "zoltan",
                                    "NEV": "Fodor Zoltán",
                                    "FoglalasokSzama": "2"
                                },
                                {
                                    "RANGSOR": "172",
                                    "USERNEV": "matyas2",
                                    "NEV": "Botka Mátyás",
                                    "FoglalasokSzama": "2"
                                },
                                {
                                    "RANGSOR": "172",
                                    "USERNEV": "kristof4",
                                    "NEV": "Poprádi Kristóf",
                                    "FoglalasokSzama": "2"
                                },
                                {
                                    "RANGSOR": "172",
                                    "USERNEV": "julia4",
                                    "NEV": "Nagy Júlia",
                                    "FoglalasokSzama": "2"
                                },
                                {
                                    "RANGSOR": "172",
                                    "USERNEV": "ISTVANV",
                                    "NEV": "Varga István",
                                    "FoglalasokSzama": "2"
                                },
                                {
                                    "RANGSOR": "172",
                                    "USERNEV": "imre",
                                    "NEV": "Búza Imre",
                                    "FoglalasokSzama": "2"
                                },
                                {
                                    "RANGSOR": "172",
                                    "USERNEV": "adam3",
                                    "NEV": "Barkóci Ádám",
                                    "FoglalasokSzama": "2"
                                },
                                {
                                    "RANGSOR": "172",
                                    "USERNEV": "annamaria1",
                                    "NEV": "Szűcs Annamária",
                                    "FoglalasokSzama": "2"
                                },
                                {
                                    "RANGSOR": "172",
                                    "USERNEV": "balint2",
                                    "NEV": "Vukasinovity Bálint",
                                    "FoglalasokSzama": "2"
                                },
                                {
                                    "RANGSOR": "172",
                                    "USERNEV": "balu",
                                    "NEV": "Endresz Bálint",
                                    "FoglalasokSzama": "2"
                                },
                                {
                                    "RANGSOR": "172",
                                    "USERNEV": "eva",
                                    "NEV": "Enyedi Éva",
                                    "FoglalasokSzama": "2"
                                },
                                {
                                    "RANGSOR": "188",
                                    "USERNEV": "david4",
                                    "NEV": "Berta Dávid",
                                    "FoglalasokSzama": "1"
                                },
                                {
                                    "RANGSOR": "188",
                                    "USERNEV": "ANDRASN",
                                    "NEV": "Nagy András",
                                    "FoglalasokSzama": "1"
                                },
                                {
                                    "RANGSOR": "188",
                                    "USERNEV": "andrea3",
                                    "NEV": "Szomor Andrea",
                                    "FoglalasokSzama": "1"
                                },
                                {
                                    "RANGSOR": "188",
                                    "USERNEV": "gabriella10",
                                    "NEV": "Vida Gabriella",
                                    "FoglalasokSzama": "1"
                                },
                                {
                                    "RANGSOR": "188",
                                    "USERNEV": "laszlo1",
                                    "NEV": "Farkas László",
                                    "FoglalasokSzama": "1"
                                },
                                {
                                    "RANGSOR": "188",
                                    "USERNEV": "szabolcs",
                                    "NEV": "Bodor Szabolcs",
                                    "FoglalasokSzama": "1"
                                },
                                {
                                    "RANGSOR": "188",
                                    "USERNEV": "tibor2",
                                    "NEV": "Dániel Tibor",
                                    "FoglalasokSzama": "1"
                                },
                                {
                                    "RANGSOR": "188",
                                    "USERNEV": "timea",
                                    "NEV": "Papós Tímea",
                                    "FoglalasokSzama": "1"
                                },
                                {
                                    "RANGSOR": "196",
                                    "USERNEV": "GABORS",
                                    "NEV": "Szöllősi Gábor",
                                    "FoglalasokSzama": "0"
                                }
                            ]
                        },
                        "text/html": "<table><tr><th>RANGSOR</th><th>USERNEV</th><th>NEV</th><th>FoglalasokSzama</th></tr><tr><td>1</td><td>andras41</td><td>Komjáti András</td><td>13</td></tr><tr><td>1</td><td>ARONK</td><td>Kelemen Áron</td><td>13</td></tr><tr><td>3</td><td>krisztian4</td><td>Czérna Krisztián</td><td>12</td></tr><tr><td>3</td><td>peter4</td><td>Bíró Péter</td><td>12</td></tr><tr><td>3</td><td>sara</td><td>Farkas Sára</td><td>12</td></tr><tr><td>3</td><td>zoltan4</td><td>Barna Zoltán</td><td>12</td></tr><tr><td>7</td><td>kata</td><td>Gondos Katalin</td><td>10</td></tr><tr><td>7</td><td>akos</td><td>Bíró Ákos</td><td>10</td></tr><tr><td>7</td><td>balazs2</td><td>Szűcs Balázs</td><td>10</td></tr><tr><td>7</td><td>balint1</td><td>Molnár Bálint</td><td>10</td></tr><tr><td>7</td><td>eszter2</td><td>Balogh Eszter</td><td>10</td></tr><tr><td>12</td><td>dani</td><td>Vörös Dániel</td><td>9</td></tr><tr><td>12</td><td>daniel</td><td>Rácz Dániel</td><td>9</td></tr><tr><td>12</td><td>david</td><td>Ambrus Dávid</td><td>9</td></tr><tr><td>12</td><td>BEATRIXK</td><td>Kerényi Beatrix</td><td>9</td></tr><tr><td>12</td><td>bence</td><td>Győrffy Bence</td><td>9</td></tr><tr><td>12</td><td>ANIKOS</td><td>Simon Anikó</td><td>9</td></tr><tr><td>12</td><td>katalin</td><td>Horváth Katalin</td><td>9</td></tr><tr><td>12</td><td>katka</td><td>Kovács Katalin</td><td>9</td></tr><tr><td>12</td><td>norbert4</td><td>Mile Norbert</td><td>9</td></tr><tr><td>12</td><td>szilvia1</td><td>Tari Szilvia</td><td>9</td></tr><tr><td>12</td><td>TAMASF</td><td>Fényes Tamás</td><td>9</td></tr><tr><td>23</td><td>tunde</td><td>Turcsik Tünde</td><td>8</td></tr><tr><td>23</td><td>ROBERTI</td><td>Iván Róbert</td><td>8</td></tr><tr><td>23</td><td>MATYASS</td><td>Szilágyi Mátyás</td><td>8</td></tr><tr><td>23</td><td>krisztina</td><td>Szedlár Krisztina</td><td>8</td></tr><tr><td>23</td><td>maria1</td><td>Baráth Mária</td><td>8</td></tr><tr><td>23</td><td>fruzsina4</td><td>Frank Fruzsina</td><td>8</td></tr><tr><td>23</td><td>GYORGYO</td><td>Oroszi György</td><td>8</td></tr><tr><td>23</td><td>anett3</td><td>Pivarcsi Anett</td><td>8</td></tr><tr><td>23</td><td>andras3</td><td>Vígh András</td><td>8</td></tr><tr><td>23</td><td>bernadett2</td><td>Kovács Bernadett</td><td>8</td></tr><tr><td>23</td><td>csongor3</td><td>Nagymihály Csongor</td><td>8</td></tr><tr><td>34</td><td>daniel1</td><td>Keszler Dániel</td><td>7</td></tr><tr><td>34</td><td>edit</td><td>Bittmann Edit</td><td>7</td></tr><tr><td>34</td><td>emese</td><td>Kuruc Emese</td><td>7</td></tr><tr><td>34</td><td>BERNADETTO</td><td>Orbán Bernadett</td><td>7</td></tr><tr><td>34</td><td>bernadett1</td><td>Simon Bernadett</td><td>7</td></tr><tr><td>34</td><td>alexandra</td><td>Bagóczki Alexandra</td><td>7</td></tr><tr><td>34</td><td>andras21</td><td>Molnár András</td><td>7</td></tr><tr><td>34</td><td>arpad2</td><td>Ötvös Árpád</td><td>7</td></tr><tr><td>34</td><td>ARPADH</td><td>Horváth Árpád</td><td>7</td></tr><tr><td>34</td><td>GYONGYIK</td><td>Kornseé Gyöngyi</td><td>7</td></tr><tr><td>34</td><td>imre1</td><td>Papp Imre</td><td>7</td></tr><tr><td>34</td><td>JANOSG</td><td>Giliga János</td><td>7</td></tr><tr><td>34</td><td>JOZSEFG</td><td>Gyuris József</td><td>7</td></tr><tr><td>34</td><td>kati</td><td>Zatykó Katalin</td><td>7</td></tr><tr><td>34</td><td>marton</td><td>Kalacsi Márton</td><td>7</td></tr><tr><td>34</td><td>nikoletta4</td><td>Kő Nikoletta</td><td>7</td></tr><tr><td>34</td><td>norbert2</td><td>Hegedűs Norbert</td><td>7</td></tr><tr><td>34</td><td>SZABOLCSM</td><td>Miklós Szabolcs</td><td>7</td></tr><tr><td>34</td><td>SZILARDS</td><td>Szalai Szilárd</td><td>7</td></tr><tr><td>34</td><td>vivien3</td><td>Boros Vivien</td><td>7</td></tr><tr><td>54</td><td>veronika4</td><td>Tankó Veronika</td><td>6</td></tr><tr><td>54</td><td>ZOLTANP</td><td>Pintér Zoltán</td><td>6</td></tr><tr><td>54</td><td>ZSOLTJ</td><td>Józsa Zsolt</td><td>6</td></tr><tr><td>54</td><td>ZSUZSAV</td><td>Vajda Zsuzsa</td><td>6</td></tr><tr><td>54</td><td>tihamer</td><td>Kazy Tihamér</td><td>6</td></tr><tr><td>54</td><td>peter3</td><td>Szalai Péter</td><td>6</td></tr><tr><td>54</td><td>polla</td><td>Palágyi Polla</td><td>6</td></tr><tr><td>54</td><td>RENATAK</td><td>Kardos Renáta</td><td>6</td></tr><tr><td>54</td><td>MONIKAM</td><td>Mohos Mónika</td><td>6</td></tr><tr><td>54</td><td>KRISZTIANM</td><td>Mogyródi Krisztián</td><td>6</td></tr><tr><td>54</td><td>krisztina1</td><td>Bori Krisztina</td><td>6</td></tr><tr><td>54</td><td>kriszti</td><td>Horváth Krisztina</td><td>6</td></tr><tr><td>54</td><td>LASZLON</td><td>Nagy László</td><td>6</td></tr><tr><td>54</td><td>lala</td><td>Nagymihály Lajos</td><td>6</td></tr><tr><td>54</td><td>katalin4</td><td>Kertész Katalin</td><td>6</td></tr><tr><td>54</td><td>gabor1</td><td>Köves Gábor</td><td>6</td></tr><tr><td>54</td><td>gabriella1</td><td>Nagy Gabriella</td><td>6</td></tr><tr><td>54</td><td>ARPADM</td><td>Móricz Árpád</td><td>6</td></tr><tr><td>54</td><td>ANNAMARIAR</td><td>Regős Annamária</td><td>6</td></tr><tr><td>54</td><td>aron2</td><td>Jakab Áron</td><td>6</td></tr><tr><td>54</td><td>attila1</td><td>Gulyás Attila</td><td>6</td></tr><tr><td>54</td><td>andrea</td><td>Kiss Andrea</td><td>6</td></tr><tr><td>54</td><td>AGNESH</td><td>Horváth Ágnes</td><td>6</td></tr><tr><td>54</td><td>adam4</td><td>Bieniek Ádám</td><td>6</td></tr><tr><td>54</td><td>beata4</td><td>Bagi Beáta</td><td>6</td></tr><tr><td>54</td><td>BENCEB</td><td>Bajusz Bence</td><td>6</td></tr><tr><td>54</td><td>bertalan</td><td>Csiger Bertalan</td><td>6</td></tr><tr><td>54</td><td>BEATRIXS</td><td>Szekendi Beatrix</td><td>6</td></tr><tr><td>54</td><td>BELAF</td><td>Farkas Béla</td><td>6</td></tr><tr><td>54</td><td>balazs3</td><td>Bakódy Balázs</td><td>6</td></tr><tr><td>54</td><td>balazs1</td><td>Bozsik Balázs</td><td>6</td></tr><tr><td>54</td><td>david1</td><td>Sobják Dávid</td><td>6</td></tr><tr><td>54</td><td>denes</td><td>Tömböly Dénes</td><td>6</td></tr><tr><td>87</td><td>dora3</td><td>Sarodi Dóra</td><td>5</td></tr><tr><td>87</td><td>EVAV</td><td>Viktor Éva</td><td>5</td></tr><tr><td>87</td><td>brigitta</td><td>Székely Brigitta</td><td>5</td></tr><tr><td>87</td><td>brigitta3</td><td>Pataki Brigitta</td><td>5</td></tr><tr><td>87</td><td>agnes</td><td>Lengyel Ágnes</td><td>5</td></tr><tr><td>87</td><td>ANDRASE</td><td>Erdei András</td><td>5</td></tr><tr><td>87</td><td>andi</td><td>Maródi Andrea</td><td>5</td></tr><tr><td>87</td><td>andras2</td><td>Tóth András</td><td>5</td></tr><tr><td>87</td><td>gusztav</td><td>Bárci Gusztáv</td><td>5</td></tr><tr><td>87</td><td>julia</td><td>Tóth Júlia</td><td>5</td></tr><tr><td>87</td><td>janos3</td><td>Harangozó János</td><td>5</td></tr><tr><td>87</td><td>jozsef2</td><td>Vajda József</td><td>5</td></tr><tr><td>87</td><td>laszlo2</td><td>Móra László</td><td>5</td></tr><tr><td>87</td><td>mark</td><td>Kispál Márk</td><td>5</td></tr><tr><td>87</td><td>KRISZTINAG</td><td>Gyárfás Krisztina</td><td>5</td></tr><tr><td>87</td><td>MIHALYJ</td><td>Juhász Mihály</td><td>5</td></tr><tr><td>87</td><td>norbert</td><td>Szűcs Norbert</td><td>5</td></tr><tr><td>87</td><td>pal</td><td>Barabás Pál</td><td>5</td></tr><tr><td>87</td><td>RENATAS</td><td>Szirmai Renáta</td><td>5</td></tr><tr><td>87</td><td>PETERB</td><td>Berendi Péter</td><td>5</td></tr><tr><td>87</td><td>reka4</td><td>Szikszai Réka</td><td>5</td></tr><tr><td>87</td><td>sandor3</td><td>Farkas Sándor</td><td>5</td></tr><tr><td>87</td><td>valentin</td><td>Feró Valentin</td><td>5</td></tr><tr><td>87</td><td>timea2</td><td>Dusha Tímea</td><td>5</td></tr><tr><td>87</td><td>SEBASTIANF</td><td>Foltényi Sebastián</td><td>5</td></tr><tr><td>112</td><td>sebestyen</td><td>Rab Sebestyén</td><td>4</td></tr><tr><td>112</td><td>tamas</td><td>Antal Tamás</td><td>4</td></tr><tr><td>112</td><td>sandor4</td><td>Nagy Sándor</td><td>4</td></tr><tr><td>112</td><td>sandor</td><td>Karasz Sándor</td><td>4</td></tr><tr><td>112</td><td>roland</td><td>Tóth Roland</td><td>4</td></tr><tr><td>112</td><td>roland1</td><td>Ferencz Roland</td><td>4</td></tr><tr><td>112</td><td>robert2</td><td>Patay Róbert</td><td>4</td></tr><tr><td>112</td><td>rajmond4</td><td>Rácz Rajmond</td><td>4</td></tr><tr><td>112</td><td>zsolt1</td><td>Pulai Zsolt</td><td>4</td></tr><tr><td>112</td><td>zsuzsa3</td><td>Varsányi Zsuzsa</td><td>4</td></tr><tr><td>112</td><td>zsuzsanna</td><td>Barta Zsuzsanna</td><td>4</td></tr><tr><td>112</td><td>VIKTORIAU</td><td>Urbán Viktoria</td><td>4</td></tr><tr><td>112</td><td>peter1</td><td>Kozma Péter</td><td>4</td></tr><tr><td>112</td><td>peter2</td><td>Bozsó Péter</td><td>4</td></tr><tr><td>112</td><td>nikolett3</td><td>Horváth Nikolett</td><td>4</td></tr><tr><td>112</td><td>NIKOLETTAT</td><td>Tatár Nikoletta</td><td>4</td></tr><tr><td>112</td><td>julianna4</td><td>Szabó Julianna</td><td>4</td></tr><tr><td>112</td><td>MARKH</td><td>Horváth Márk</td><td>4</td></tr><tr><td>112</td><td>LASZLOA</td><td>Antal László</td><td>4</td></tr><tr><td>112</td><td>JANOSP</td><td>Pálinkás János</td><td>4</td></tr><tr><td>112</td><td>istvan1</td><td>Vizi István</td><td>4</td></tr><tr><td>112</td><td>ilona3</td><td>Bosnyák Ilona</td><td>4</td></tr><tr><td>112</td><td>eva2</td><td>Perlinger Éva</td><td>4</td></tr><tr><td>112</td><td>georgij</td><td>Nyíri Georgij</td><td>4</td></tr><tr><td>112</td><td>gabor4</td><td>Telek Gábor</td><td>4</td></tr><tr><td>112</td><td>aniko4</td><td>Böröcz Anikó</td><td>4</td></tr><tr><td>112</td><td>anita</td><td>Hamvay-Kovács Anita</td><td>4</td></tr><tr><td>112</td><td>andrea4</td><td>Neizer Andrea</td><td>4</td></tr><tr><td>112</td><td>ATTILAO</td><td>Opra Attila</td><td>4</td></tr><tr><td>112</td><td>ferenc1</td><td>Orosz Ferenc</td><td>4</td></tr><tr><td>112</td><td>ESZTERE</td><td>Érsek Eszter</td><td>4</td></tr><tr><td>112</td><td>eszter</td><td>Molnár Eszter</td><td>4</td></tr><tr><td>112</td><td>debora</td><td>Barna Debóra</td><td>4</td></tr><tr><td>145</td><td>eszter4</td><td>Fülöp Eszter</td><td>3</td></tr><tr><td>145</td><td>balint</td><td>Horváth Bálint</td><td>3</td></tr><tr><td>145</td><td>ANDREAT</td><td>Tornyos Andrea</td><td>3</td></tr><tr><td>145</td><td>aniko</td><td>Tóth Anikó</td><td>3</td></tr><tr><td>145</td><td>attila4</td><td>Baróti Attila</td><td>3</td></tr><tr><td>145</td><td>attila</td><td>Csóti Attila</td><td>3</td></tr><tr><td>145</td><td>andras4</td><td>Back András</td><td>3</td></tr><tr><td>145</td><td>agnes3</td><td>Hartyánszky Ágnes</td><td>3</td></tr><tr><td>145</td><td>adam1</td><td>Kiss Ádám</td><td>3</td></tr><tr><td>145</td><td>AGNESK</td><td>Kovács Ágnes</td><td>3</td></tr><tr><td>145</td><td>aladar</td><td>Dunai Aladár</td><td>3</td></tr><tr><td>145</td><td>istvan</td><td>Soós István</td><td>3</td></tr><tr><td>145</td><td>henrik3</td><td>Nádudvari Henrik</td><td>3</td></tr><tr><td>145</td><td>IBOLYAA</td><td>Andor Ibolya</td><td>3</td></tr><tr><td>145</td><td>jozsef</td><td>Gergely József</td><td>3</td></tr><tr><td>145</td><td>JUDITH</td><td>Hídasi Judit</td><td>3</td></tr><tr><td>145</td><td>klaudia2</td><td>Bakó Klaudia</td><td>3</td></tr><tr><td>145</td><td>kornel4</td><td>Lukács Kornél</td><td>3</td></tr><tr><td>145</td><td>lajos</td><td>Kiss Lajos</td><td>3</td></tr><tr><td>145</td><td>norbert5</td><td>Béres Norbert</td><td>3</td></tr><tr><td>145</td><td>miklos2</td><td>Gondos Miklós</td><td>3</td></tr><tr><td>145</td><td>MIKLOSB</td><td>Balla Miklós</td><td>3</td></tr><tr><td>145</td><td>NANDORF</td><td>Fő Nándor</td><td>3</td></tr><tr><td>145</td><td>MATEK</td><td>Koza Máté</td><td>3</td></tr><tr><td>145</td><td>ZOLTANT</td><td>Tóth Zoltán</td><td>3</td></tr><tr><td>145</td><td>zsuzsa</td><td>Pusztai Zsuzsanna</td><td>3</td></tr><tr><td>145</td><td>roza2</td><td>Bucskó Róza</td><td>3</td></tr><tr><td>172</td><td>ROBERTP</td><td>Pásztor Róbert</td><td>2</td></tr><tr><td>172</td><td>tibor</td><td>Gombos Tibor</td><td>2</td></tr><tr><td>172</td><td>tamara2</td><td>Miklós Tamara</td><td>2</td></tr><tr><td>172</td><td>zsofi1</td><td>Molnár Zsófi</td><td>2</td></tr><tr><td>172</td><td>VIKTORK</td><td>Keresztúri Viktor</td><td>2</td></tr><tr><td>172</td><td>zoltan</td><td>Fodor Zoltán</td><td>2</td></tr><tr><td>172</td><td>matyas2</td><td>Botka Mátyás</td><td>2</td></tr><tr><td>172</td><td>kristof4</td><td>Poprádi Kristóf</td><td>2</td></tr><tr><td>172</td><td>julia4</td><td>Nagy Júlia</td><td>2</td></tr><tr><td>172</td><td>ISTVANV</td><td>Varga István</td><td>2</td></tr><tr><td>172</td><td>imre</td><td>Búza Imre</td><td>2</td></tr><tr><td>172</td><td>adam3</td><td>Barkóci Ádám</td><td>2</td></tr><tr><td>172</td><td>annamaria1</td><td>Szűcs Annamária</td><td>2</td></tr><tr><td>172</td><td>balint2</td><td>Vukasinovity Bálint</td><td>2</td></tr><tr><td>172</td><td>balu</td><td>Endresz Bálint</td><td>2</td></tr><tr><td>172</td><td>eva</td><td>Enyedi Éva</td><td>2</td></tr><tr><td>188</td><td>david4</td><td>Berta Dávid</td><td>1</td></tr><tr><td>188</td><td>ANDRASN</td><td>Nagy András</td><td>1</td></tr><tr><td>188</td><td>andrea3</td><td>Szomor Andrea</td><td>1</td></tr><tr><td>188</td><td>gabriella10</td><td>Vida Gabriella</td><td>1</td></tr><tr><td>188</td><td>laszlo1</td><td>Farkas László</td><td>1</td></tr><tr><td>188</td><td>szabolcs</td><td>Bodor Szabolcs</td><td>1</td></tr><tr><td>188</td><td>tibor2</td><td>Dániel Tibor</td><td>1</td></tr><tr><td>188</td><td>timea</td><td>Papós Tímea</td><td>1</td></tr><tr><td>196</td><td>GABORS</td><td>Szöllősi Gábor</td><td>0</td></tr></table>"
                    },
                    "metadata": {}
                }
            ],
            "execution_count": 12
        },
        {
            "cell_type": "markdown",
            "source": [
                "4\\. Feladat"
            ],
            "metadata": {
                "azdata_cell_guid": "2c4143d4-a7f7-480e-bb63-a37803772b80"
            },
            "attachments": {}
        },
        {
            "cell_type": "code",
            "source": [
                "SELECT \r\n",
                "    S.SZALLAS_ID,\r\n",
                "    S.SZALLAS_NEV,\r\n",
                "    SZ.POTAGY,\r\n",
                "    SUM(F.FELNOTT_SZAM + F.GYERMEK_SZAM) AS OSSZES_FO\r\n",
                "FROM \r\n",
                "    SZALLASHELY S\r\n",
                "JOIN \r\n",
                "    SZOBA SZ ON S.SZALLAS_ID = SZ.SZALLAS_FK\r\n",
                "JOIN \r\n",
                "    FOGLALAS F ON SZ.SZOBA_ID = F.SZOBA_FK\r\n",
                "GROUP BY \r\n",
                "    ROLLUP(S.SZALLAS_ID, S.SZALLAS_NEV, SZ.POTAGY)\r\n",
                "ORDER BY \r\n",
                "    S.SZALLAS_ID, SZ.POTAGY;\r\n",
                ""
            ],
            "metadata": {
                "azdata_cell_guid": "4dd15f50-146c-4e42-8716-5743f36a6408",
                "language": "sql",
                "tags": [
                    "hide_input"
                ]
            },
            "outputs": [
                {
                    "output_type": "display_data",
                    "data": {
                        "text/html": "(56 rows affected)"
                    },
                    "metadata": {}
                },
                {
                    "output_type": "display_data",
                    "data": {
                        "text/html": "Total execution time: 00:00:00.018"
                    },
                    "metadata": {}
                },
                {
                    "output_type": "execute_result",
                    "metadata": {},
                    "execution_count": 2,
                    "data": {
                        "application/vnd.dataresource+json": {
                            "schema": {
                                "fields": [
                                    {
                                        "name": "SZALLAS_ID"
                                    },
                                    {
                                        "name": "SZALLAS_NEV"
                                    },
                                    {
                                        "name": "POTAGY"
                                    },
                                    {
                                        "name": "OSSZES_FO"
                                    }
                                ]
                            },
                            "data": [
                                {
                                    "SZALLAS_ID": "NULL",
                                    "SZALLAS_NEV": "NULL",
                                    "POTAGY": "NULL",
                                    "OSSZES_FO": "2490"
                                },
                                {
                                    "SZALLAS_ID": "1",
                                    "SZALLAS_NEV": "Sába-Ház",
                                    "POTAGY": "NULL",
                                    "OSSZES_FO": "166"
                                },
                                {
                                    "SZALLAS_ID": "1",
                                    "SZALLAS_NEV": "NULL",
                                    "POTAGY": "NULL",
                                    "OSSZES_FO": "166"
                                },
                                {
                                    "SZALLAS_ID": "1",
                                    "SZALLAS_NEV": "Sába-Ház",
                                    "POTAGY": "0",
                                    "OSSZES_FO": "67"
                                },
                                {
                                    "SZALLAS_ID": "1",
                                    "SZALLAS_NEV": "Sába-Ház",
                                    "POTAGY": "1",
                                    "OSSZES_FO": "99"
                                },
                                {
                                    "SZALLAS_ID": "2",
                                    "SZALLAS_NEV": "Családi Ház",
                                    "POTAGY": "NULL",
                                    "OSSZES_FO": "52"
                                },
                                {
                                    "SZALLAS_ID": "2",
                                    "SZALLAS_NEV": "NULL",
                                    "POTAGY": "NULL",
                                    "OSSZES_FO": "52"
                                },
                                {
                                    "SZALLAS_ID": "2",
                                    "SZALLAS_NEV": "Családi Ház",
                                    "POTAGY": "0",
                                    "OSSZES_FO": "10"
                                },
                                {
                                    "SZALLAS_ID": "2",
                                    "SZALLAS_NEV": "Családi Ház",
                                    "POTAGY": "1",
                                    "OSSZES_FO": "31"
                                },
                                {
                                    "SZALLAS_ID": "2",
                                    "SZALLAS_NEV": "Családi Ház",
                                    "POTAGY": "2",
                                    "OSSZES_FO": "11"
                                },
                                {
                                    "SZALLAS_ID": "3",
                                    "SZALLAS_NEV": "Fortuna Apartman",
                                    "POTAGY": "NULL",
                                    "OSSZES_FO": "106"
                                },
                                {
                                    "SZALLAS_ID": "3",
                                    "SZALLAS_NEV": "NULL",
                                    "POTAGY": "NULL",
                                    "OSSZES_FO": "106"
                                },
                                {
                                    "SZALLAS_ID": "3",
                                    "SZALLAS_NEV": "Fortuna Apartman",
                                    "POTAGY": "0",
                                    "OSSZES_FO": "18"
                                },
                                {
                                    "SZALLAS_ID": "3",
                                    "SZALLAS_NEV": "Fortuna Apartman",
                                    "POTAGY": "1",
                                    "OSSZES_FO": "52"
                                },
                                {
                                    "SZALLAS_ID": "3",
                                    "SZALLAS_NEV": "Fortuna Apartman",
                                    "POTAGY": "2",
                                    "OSSZES_FO": "36"
                                },
                                {
                                    "SZALLAS_ID": "4",
                                    "SZALLAS_NEV": "Fortuna panzió",
                                    "POTAGY": "NULL",
                                    "OSSZES_FO": "184"
                                },
                                {
                                    "SZALLAS_ID": "4",
                                    "SZALLAS_NEV": "NULL",
                                    "POTAGY": "NULL",
                                    "OSSZES_FO": "184"
                                },
                                {
                                    "SZALLAS_ID": "4",
                                    "SZALLAS_NEV": "Fortuna panzió",
                                    "POTAGY": "0",
                                    "OSSZES_FO": "45"
                                },
                                {
                                    "SZALLAS_ID": "4",
                                    "SZALLAS_NEV": "Fortuna panzió",
                                    "POTAGY": "1",
                                    "OSSZES_FO": "99"
                                },
                                {
                                    "SZALLAS_ID": "4",
                                    "SZALLAS_NEV": "Fortuna panzió",
                                    "POTAGY": "2",
                                    "OSSZES_FO": "40"
                                },
                                {
                                    "SZALLAS_ID": "5",
                                    "SZALLAS_NEV": "Fortuna Panzió",
                                    "POTAGY": "NULL",
                                    "OSSZES_FO": "127"
                                },
                                {
                                    "SZALLAS_ID": "5",
                                    "SZALLAS_NEV": "NULL",
                                    "POTAGY": "NULL",
                                    "OSSZES_FO": "127"
                                },
                                {
                                    "SZALLAS_ID": "5",
                                    "SZALLAS_NEV": "Fortuna Panzió",
                                    "POTAGY": "0",
                                    "OSSZES_FO": "113"
                                },
                                {
                                    "SZALLAS_ID": "5",
                                    "SZALLAS_NEV": "Fortuna Panzió",
                                    "POTAGY": "1",
                                    "OSSZES_FO": "14"
                                },
                                {
                                    "SZALLAS_ID": "6",
                                    "SZALLAS_NEV": "Kentaur Hotel",
                                    "POTAGY": "NULL",
                                    "OSSZES_FO": "420"
                                },
                                {
                                    "SZALLAS_ID": "6",
                                    "SZALLAS_NEV": "NULL",
                                    "POTAGY": "NULL",
                                    "OSSZES_FO": "420"
                                },
                                {
                                    "SZALLAS_ID": "6",
                                    "SZALLAS_NEV": "Kentaur Hotel",
                                    "POTAGY": "0",
                                    "OSSZES_FO": "168"
                                },
                                {
                                    "SZALLAS_ID": "6",
                                    "SZALLAS_NEV": "Kentaur Hotel",
                                    "POTAGY": "1",
                                    "OSSZES_FO": "224"
                                },
                                {
                                    "SZALLAS_ID": "6",
                                    "SZALLAS_NEV": "Kentaur Hotel",
                                    "POTAGY": "2",
                                    "OSSZES_FO": "28"
                                },
                                {
                                    "SZALLAS_ID": "7",
                                    "SZALLAS_NEV": "Szieszta Apartmanház",
                                    "POTAGY": "NULL",
                                    "OSSZES_FO": "83"
                                },
                                {
                                    "SZALLAS_ID": "7",
                                    "SZALLAS_NEV": "NULL",
                                    "POTAGY": "NULL",
                                    "OSSZES_FO": "83"
                                },
                                {
                                    "SZALLAS_ID": "7",
                                    "SZALLAS_NEV": "Szieszta Apartmanház",
                                    "POTAGY": "0",
                                    "OSSZES_FO": "64"
                                },
                                {
                                    "SZALLAS_ID": "7",
                                    "SZALLAS_NEV": "Szieszta Apartmanház",
                                    "POTAGY": "1",
                                    "OSSZES_FO": "19"
                                },
                                {
                                    "SZALLAS_ID": "8",
                                    "SZALLAS_NEV": "Hotel Három Hattyú",
                                    "POTAGY": "NULL",
                                    "OSSZES_FO": "504"
                                },
                                {
                                    "SZALLAS_ID": "8",
                                    "SZALLAS_NEV": "NULL",
                                    "POTAGY": "NULL",
                                    "OSSZES_FO": "504"
                                },
                                {
                                    "SZALLAS_ID": "8",
                                    "SZALLAS_NEV": "Hotel Három Hattyú",
                                    "POTAGY": "0",
                                    "OSSZES_FO": "183"
                                },
                                {
                                    "SZALLAS_ID": "8",
                                    "SZALLAS_NEV": "Hotel Három Hattyú",
                                    "POTAGY": "1",
                                    "OSSZES_FO": "258"
                                },
                                {
                                    "SZALLAS_ID": "8",
                                    "SZALLAS_NEV": "Hotel Három Hattyú",
                                    "POTAGY": "2",
                                    "OSSZES_FO": "63"
                                },
                                {
                                    "SZALLAS_ID": "9",
                                    "SZALLAS_NEV": "Jáde panzió",
                                    "POTAGY": "NULL",
                                    "OSSZES_FO": "66"
                                },
                                {
                                    "SZALLAS_ID": "9",
                                    "SZALLAS_NEV": "NULL",
                                    "POTAGY": "NULL",
                                    "OSSZES_FO": "66"
                                },
                                {
                                    "SZALLAS_ID": "9",
                                    "SZALLAS_NEV": "Jáde panzió",
                                    "POTAGY": "0",
                                    "OSSZES_FO": "66"
                                },
                                {
                                    "SZALLAS_ID": "10",
                                    "SZALLAS_NEV": "Lagúna Hotel",
                                    "POTAGY": "NULL",
                                    "OSSZES_FO": "291"
                                },
                                {
                                    "SZALLAS_ID": "10",
                                    "SZALLAS_NEV": "NULL",
                                    "POTAGY": "NULL",
                                    "OSSZES_FO": "291"
                                },
                                {
                                    "SZALLAS_ID": "10",
                                    "SZALLAS_NEV": "Lagúna Hotel",
                                    "POTAGY": "0",
                                    "OSSZES_FO": "105"
                                },
                                {
                                    "SZALLAS_ID": "10",
                                    "SZALLAS_NEV": "Lagúna Hotel",
                                    "POTAGY": "1",
                                    "OSSZES_FO": "150"
                                },
                                {
                                    "SZALLAS_ID": "10",
                                    "SZALLAS_NEV": "Lagúna Hotel",
                                    "POTAGY": "2",
                                    "OSSZES_FO": "36"
                                },
                                {
                                    "SZALLAS_ID": "11",
                                    "SZALLAS_NEV": "Partiszél Vendégház",
                                    "POTAGY": "NULL",
                                    "OSSZES_FO": "63"
                                },
                                {
                                    "SZALLAS_ID": "11",
                                    "SZALLAS_NEV": "NULL",
                                    "POTAGY": "NULL",
                                    "OSSZES_FO": "63"
                                },
                                {
                                    "SZALLAS_ID": "11",
                                    "SZALLAS_NEV": "Partiszél Vendégház",
                                    "POTAGY": "0",
                                    "OSSZES_FO": "31"
                                },
                                {
                                    "SZALLAS_ID": "11",
                                    "SZALLAS_NEV": "Partiszél Vendégház",
                                    "POTAGY": "1",
                                    "OSSZES_FO": "17"
                                },
                                {
                                    "SZALLAS_ID": "11",
                                    "SZALLAS_NEV": "Partiszél Vendégház",
                                    "POTAGY": "2",
                                    "OSSZES_FO": "15"
                                },
                                {
                                    "SZALLAS_ID": "12",
                                    "SZALLAS_NEV": "Gold Hotel",
                                    "POTAGY": "NULL",
                                    "OSSZES_FO": "428"
                                },
                                {
                                    "SZALLAS_ID": "12",
                                    "SZALLAS_NEV": "NULL",
                                    "POTAGY": "NULL",
                                    "OSSZES_FO": "428"
                                },
                                {
                                    "SZALLAS_ID": "12",
                                    "SZALLAS_NEV": "Gold Hotel",
                                    "POTAGY": "0",
                                    "OSSZES_FO": "216"
                                },
                                {
                                    "SZALLAS_ID": "12",
                                    "SZALLAS_NEV": "Gold Hotel",
                                    "POTAGY": "1",
                                    "OSSZES_FO": "93"
                                },
                                {
                                    "SZALLAS_ID": "12",
                                    "SZALLAS_NEV": "Gold Hotel",
                                    "POTAGY": "2",
                                    "OSSZES_FO": "119"
                                }
                            ]
                        },
                        "text/html": [
                            "<table>",
                            "<tr><th>SZALLAS_ID</th><th>SZALLAS_NEV</th><th>POTAGY</th><th>OSSZES_FO</th></tr>",
                            "<tr><td>NULL</td><td>NULL</td><td>NULL</td><td>2490</td></tr>",
                            "<tr><td>1</td><td>Sába-Ház</td><td>NULL</td><td>166</td></tr>",
                            "<tr><td>1</td><td>NULL</td><td>NULL</td><td>166</td></tr>",
                            "<tr><td>1</td><td>Sába-Ház</td><td>0</td><td>67</td></tr>",
                            "<tr><td>1</td><td>Sába-Ház</td><td>1</td><td>99</td></tr>",
                            "<tr><td>2</td><td>Családi Ház</td><td>NULL</td><td>52</td></tr>",
                            "<tr><td>2</td><td>NULL</td><td>NULL</td><td>52</td></tr>",
                            "<tr><td>2</td><td>Családi Ház</td><td>0</td><td>10</td></tr>",
                            "<tr><td>2</td><td>Családi Ház</td><td>1</td><td>31</td></tr>",
                            "<tr><td>2</td><td>Családi Ház</td><td>2</td><td>11</td></tr>",
                            "<tr><td>3</td><td>Fortuna Apartman</td><td>NULL</td><td>106</td></tr>",
                            "<tr><td>3</td><td>NULL</td><td>NULL</td><td>106</td></tr>",
                            "<tr><td>3</td><td>Fortuna Apartman</td><td>0</td><td>18</td></tr>",
                            "<tr><td>3</td><td>Fortuna Apartman</td><td>1</td><td>52</td></tr>",
                            "<tr><td>3</td><td>Fortuna Apartman</td><td>2</td><td>36</td></tr>",
                            "<tr><td>4</td><td>Fortuna panzió</td><td>NULL</td><td>184</td></tr>",
                            "<tr><td>4</td><td>NULL</td><td>NULL</td><td>184</td></tr>",
                            "<tr><td>4</td><td>Fortuna panzió</td><td>0</td><td>45</td></tr>",
                            "<tr><td>4</td><td>Fortuna panzió</td><td>1</td><td>99</td></tr>",
                            "<tr><td>4</td><td>Fortuna panzió</td><td>2</td><td>40</td></tr>",
                            "<tr><td>5</td><td>Fortuna Panzió</td><td>NULL</td><td>127</td></tr>",
                            "<tr><td>5</td><td>NULL</td><td>NULL</td><td>127</td></tr>",
                            "<tr><td>5</td><td>Fortuna Panzió</td><td>0</td><td>113</td></tr>",
                            "<tr><td>5</td><td>Fortuna Panzió</td><td>1</td><td>14</td></tr>",
                            "<tr><td>6</td><td>Kentaur Hotel</td><td>NULL</td><td>420</td></tr>",
                            "<tr><td>6</td><td>NULL</td><td>NULL</td><td>420</td></tr>",
                            "<tr><td>6</td><td>Kentaur Hotel</td><td>0</td><td>168</td></tr>",
                            "<tr><td>6</td><td>Kentaur Hotel</td><td>1</td><td>224</td></tr>",
                            "<tr><td>6</td><td>Kentaur Hotel</td><td>2</td><td>28</td></tr>",
                            "<tr><td>7</td><td>Szieszta Apartmanház</td><td>NULL</td><td>83</td></tr>",
                            "<tr><td>7</td><td>NULL</td><td>NULL</td><td>83</td></tr>",
                            "<tr><td>7</td><td>Szieszta Apartmanház</td><td>0</td><td>64</td></tr>",
                            "<tr><td>7</td><td>Szieszta Apartmanház</td><td>1</td><td>19</td></tr>",
                            "<tr><td>8</td><td>Hotel Három Hattyú</td><td>NULL</td><td>504</td></tr>",
                            "<tr><td>8</td><td>NULL</td><td>NULL</td><td>504</td></tr>",
                            "<tr><td>8</td><td>Hotel Három Hattyú</td><td>0</td><td>183</td></tr>",
                            "<tr><td>8</td><td>Hotel Három Hattyú</td><td>1</td><td>258</td></tr>",
                            "<tr><td>8</td><td>Hotel Három Hattyú</td><td>2</td><td>63</td></tr>",
                            "<tr><td>9</td><td>Jáde panzió</td><td>NULL</td><td>66</td></tr>",
                            "<tr><td>9</td><td>NULL</td><td>NULL</td><td>66</td></tr>",
                            "<tr><td>9</td><td>Jáde panzió</td><td>0</td><td>66</td></tr>",
                            "<tr><td>10</td><td>Lagúna Hotel</td><td>NULL</td><td>291</td></tr>",
                            "<tr><td>10</td><td>NULL</td><td>NULL</td><td>291</td></tr>",
                            "<tr><td>10</td><td>Lagúna Hotel</td><td>0</td><td>105</td></tr>",
                            "<tr><td>10</td><td>Lagúna Hotel</td><td>1</td><td>150</td></tr>",
                            "<tr><td>10</td><td>Lagúna Hotel</td><td>2</td><td>36</td></tr>",
                            "<tr><td>11</td><td>Partiszél Vendégház</td><td>NULL</td><td>63</td></tr>",
                            "<tr><td>11</td><td>NULL</td><td>NULL</td><td>63</td></tr>",
                            "<tr><td>11</td><td>Partiszél Vendégház</td><td>0</td><td>31</td></tr>",
                            "<tr><td>11</td><td>Partiszél Vendégház</td><td>1</td><td>17</td></tr>",
                            "<tr><td>11</td><td>Partiszél Vendégház</td><td>2</td><td>15</td></tr>",
                            "<tr><td>12</td><td>Gold Hotel</td><td>NULL</td><td>428</td></tr>",
                            "<tr><td>12</td><td>NULL</td><td>NULL</td><td>428</td></tr>",
                            "<tr><td>12</td><td>Gold Hotel</td><td>0</td><td>216</td></tr>",
                            "<tr><td>12</td><td>Gold Hotel</td><td>1</td><td>93</td></tr>",
                            "<tr><td>12</td><td>Gold Hotel</td><td>2</td><td>119</td></tr>",
                            "</table>"
                        ]
                    }
                }
            ],
            "execution_count": 2
        },
        {
            "cell_type": "markdown",
            "source": [
                "6\\. Feladat"
            ],
            "metadata": {
                "azdata_cell_guid": "8d1fa19e-b276-4de9-aef3-b593f63f65cd"
            },
            "attachments": {}
        },
        {
            "cell_type": "code",
            "source": [
                "HSET IRO:1 ID 1 nev \"Janos Arany\" nemzetiseg \"Magyar\"\r\n",
                "HSET IRO:2 ID 2 nev \"Sandor Petofi\" nemzetiseg \"Magyar\"\r\n",
                "HSET KONYV:1 ID 1 cim \"Toldi\" mufaj \"Elbeszélő költemény\" IRO_ID 1\r\n",
                "HSET KONYV:2 ID 2 cim \"Janos Vitez\" mufaj \"Elbeszélő költemény\" IRO_ID 2"
            ],
            "metadata": {
                "azdata_cell_guid": "d61ef8ba-09f9-4b92-959c-7eedafd783f3",
                "language": "sql",
                "tags": []
            },
            "outputs": [],
            "execution_count": null
        },
        {
            "cell_type": "markdown",
            "source": [
                "8\\. Feladat"
            ],
            "metadata": {
                "azdata_cell_guid": "43d188a4-495c-4ba2-a412-bff82860e1a9"
            },
            "attachments": {}
        },
        {
            "cell_type": "code",
            "source": [
                "MATCH (tom:Person {name: \"Tom Hanks\"})-[:ACTED_IN]->(movie:Movie)<-[:ACTED_IN]-(coActor:Person)\r\n",
                "WHERE coActor.name <> \"Tom Hanks\"\r\n",
                "RETURN DISTINCT coActor.name AS Actor"
            ],
            "metadata": {
                "azdata_cell_guid": "7ad3869d-06bc-4fba-86eb-974456c088a6",
                "language": "sql"
            },
            "outputs": [],
            "execution_count": null
        }
    ]
}